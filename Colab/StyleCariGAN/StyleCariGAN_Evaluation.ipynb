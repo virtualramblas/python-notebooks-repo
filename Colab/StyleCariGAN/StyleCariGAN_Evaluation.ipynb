{
  "nbformat": 4,
  "nbformat_minor": 0,
  "metadata": {
    "colab": {
      "name": "StyleCariGAN Evaluation.ipynb",
      "provenance": []
    },
    "kernelspec": {
      "name": "python3",
      "display_name": "Python 3"
    },
    "language_info": {
      "name": "python"
    },
    "accelerator": "GPU"
  },
  "cells": [
    {
      "cell_type": "markdown",
      "metadata": {
        "id": "DJFfIdHvSLrT"
      },
      "source": [
        "## StyleCariGAN Evaluation\n",
        "Notebook to evaluate the StyleCariGAN: Caricature Generation via StyleGAN Feature Map Modulation [paper](https://arxiv.org/abs/2107.04331) on your own images.  \n",
        "StyleCariGAN is a caricature generation framework based on shape and style manipulation using StyleGAN. It automatically creates a realistic and detailed caricature from an input photo with optional controls on shape exaggeration degree and color stylization type.  \n",
        "-----> **A GPU runtime is needed to run this code successfully.** <-----  \n",
        "  \n",
        "@article{Jang2021StyleCari,  \n",
        "    author    = {Wonjong Jang and Gwangjin Ju and Yucheol Jung and Jiaolong Yang and Xin Tong and Seungyong Lee},  \n",
        "    title     = {StyleCariGAN: Caricature Generation via StyleGAN Feature Map Modulation},  \n",
        "    booktitle = {ACM Transactions on Graphics (Proceedings of ACM SIGGRAPH)},  \n",
        "    publisher = {ACM},  \n",
        "    volume = {40},  \n",
        "    number = {4},  \n",
        "    year = {2021}  \n",
        "}"
      ]
    },
    {
      "cell_type": "markdown",
      "metadata": {
        "id": "pNZN9j_gNqBG"
      },
      "source": [
        "### Setup"
      ]
    },
    {
      "cell_type": "markdown",
      "metadata": {
        "id": "37d6AHu2PBsm"
      },
      "source": [
        "Clone the official GitHub repo."
      ]
    },
    {
      "cell_type": "code",
      "metadata": {
        "id": "Ji67mImeO6ZY"
      },
      "source": [
        "!git clone https://github.com/wonjongg/StyleCariGAN.git"
      ],
      "execution_count": null,
      "outputs": []
    },
    {
      "cell_type": "code",
      "metadata": {
        "id": "PLXxCynaPN_J"
      },
      "source": [
        "%cd ./StyleCariGAN"
      ],
      "execution_count": null,
      "outputs": []
    },
    {
      "cell_type": "markdown",
      "metadata": {
        "id": "MniI1XxcPafz"
      },
      "source": [
        "Download pre-trained model weights."
      ]
    },
    {
      "cell_type": "code",
      "metadata": {
        "id": "feA9Kpv3Pcyu"
      },
      "source": [
        "!bash ./download.sh"
      ],
      "execution_count": null,
      "outputs": []
    },
    {
      "cell_type": "markdown",
      "metadata": {
        "id": "IR-1sTiZQhsd"
      },
      "source": [
        "If the downolad from the Dropbox link above doesn't work, please try from this other location. Otherwise ignore the following cell and move to the Ninja installation."
      ]
    },
    {
      "cell_type": "code",
      "metadata": {
        "id": "0lnjzykUQvC6"
      },
      "source": [
        "!gdown --id 1hBAWJQjbB-B_EA2xsz1XGUh6gDNb-GKO"
      ],
      "execution_count": null,
      "outputs": []
    },
    {
      "cell_type": "markdown",
      "metadata": {
        "id": "ZPN0BE-xQuJe"
      },
      "source": [
        "Install [Ninja](https://ninja-build.org/) in order to load the C++ extensions."
      ]
    },
    {
      "cell_type": "code",
      "metadata": {
        "id": "St_S9OwsQ0s1"
      },
      "source": [
        "!wget https://github.com/ninja-build/ninja/releases/download/v1.8.2/ninja-linux.zip\n",
        "!sudo unzip ninja-linux.zip -d /usr/local/bin/\n",
        "!sudo update-alternatives --install /usr/bin/ninja ninja /usr/local/bin/ninja 1 --force "
      ],
      "execution_count": null,
      "outputs": []
    },
    {
      "cell_type": "code",
      "metadata": {
        "id": "mAlNRcVQQ4ec"
      },
      "source": [
        "!rm -f ninja-linux.zip"
      ],
      "execution_count": null,
      "outputs": []
    },
    {
      "cell_type": "markdown",
      "metadata": {
        "id": "O_pk0yUBFdKQ"
      },
      "source": [
        "Create the input and output directories. Uploaded images will be saved into the input directory. Generated caricatures will be saved into sub-directories of the output dir."
      ]
    },
    {
      "cell_type": "code",
      "metadata": {
        "id": "sm73Moc7Fdzs"
      },
      "source": [
        "!mkdir ./examples/input\n",
        "!mkdir ./examples/output/"
      ],
      "execution_count": null,
      "outputs": []
    },
    {
      "cell_type": "markdown",
      "metadata": {
        "id": "NNor5J41F-8u"
      },
      "source": [
        "User defined function to upload images."
      ]
    },
    {
      "cell_type": "code",
      "metadata": {
        "id": "YtQjQKwUGFq3"
      },
      "source": [
        "def upload_files():\n",
        "  from google.colab import files\n",
        "  uploaded = files.upload()\n",
        "  for k, v in uploaded.items():\n",
        "    open(k, 'wb').write(v)\n",
        "  return list(uploaded.keys())"
      ],
      "execution_count": null,
      "outputs": []
    },
    {
      "cell_type": "markdown",
      "metadata": {
        "id": "waVhjCIMNwuz"
      },
      "source": [
        "### Evaluation"
      ]
    },
    {
      "cell_type": "markdown",
      "metadata": {
        "id": "55gHehV5Gf2X"
      },
      "source": [
        "Upload your own images."
      ]
    },
    {
      "cell_type": "code",
      "metadata": {
        "id": "2gmYmxFFGi3W"
      },
      "source": [
        "%cd ./examples/input/\n",
        "uploaded_image_list = upload_files()\n",
        "%cd ../.."
      ],
      "execution_count": null,
      "outputs": []
    },
    {
      "cell_type": "markdown",
      "metadata": {
        "id": "52Vpx4k9Iw4x"
      },
      "source": [
        "Display the uploaded images."
      ]
    },
    {
      "cell_type": "code",
      "metadata": {
        "id": "hsqmpj5VI0zx"
      },
      "source": [
        "import matplotlib.pyplot as plt\n",
        "import os\n",
        "import cv2\n",
        "\n",
        "input_images_path = './examples/input'\n",
        "items = os.listdir(input_images_path)\n",
        "print (items)    \n",
        "\n",
        "for each_image in items:\n",
        "  if each_image.endswith(\".jpg\") or each_image.endswith(\".png\"):\n",
        "    print(each_image)\n",
        "    full_path = input_images_path + '/' + each_image\n",
        "    image = cv2.imread(full_path)\n",
        "    image = cv2.cvtColor(image,cv2.COLOR_BGR2RGB)\n",
        "    plt.figure()\n",
        "    plt.imshow(image)\n",
        "    plt.grid(False)"
      ],
      "execution_count": null,
      "outputs": []
    },
    {
      "cell_type": "markdown",
      "metadata": {
        "id": "KAxIIIc9PrM-"
      },
      "source": [
        "Test the model."
      ]
    },
    {
      "cell_type": "code",
      "metadata": {
        "id": "WXg7cGdnPyHR"
      },
      "source": [
        "!python test.py --ckpt ./checkpoint/StyleCariGAN/001000.pt --input_dir ./examples/input/ --output_dir ./examples/output/ --invert_images"
      ],
      "execution_count": null,
      "outputs": []
    },
    {
      "cell_type": "markdown",
      "metadata": {
        "id": "Gb_IjAwgIlR9"
      },
      "source": [
        "The generated caricatures are available in sub-directories of the */content/StyleCAriGAN/examples/output* directory."
      ]
    }
  ]
}