{
  "cells": [
    {
      "cell_type": "markdown",
      "metadata": {
        "id": "Us3HvlhMMmlp"
      },
      "source": [
        "# SinGAN Port to TensorFlow\n",
        "This notebook allows training and some tasks such as random sampling and harmonization using [cryu854](https://github.com/cryu854)'s [TensorFlow](https://www.tensorflow.org/) 2 port of SinGAN, an unconditional generative model that can be learned from a single natural image. You can read about the original SinGAN paper [here](https://arxiv.org/abs/1905.01164).  \n",
        "A GPU runtime is needed to execute the code in this notebook."
      ]
    },
    {
      "cell_type": "markdown",
      "metadata": {
        "id": "L_gbhfZZN0Le"
      },
      "source": [
        "## Settings"
      ]
    },
    {
      "cell_type": "markdown",
      "metadata": {
        "id": "j9KCE3wDsaj9"
      },
      "source": [
        "Clone the GitHub repository."
      ]
    },
    {
      "cell_type": "code",
      "execution_count": null,
      "metadata": {
        "id": "Wp_CvaWmsONl"
      },
      "outputs": [],
      "source": [
        "!git clone https://github.com/cryu854/SinGAN.git\n",
        "%cd ./SinGAN"
      ]
    },
    {
      "cell_type": "markdown",
      "metadata": {
        "id": "4pYO9gXBN5N4"
      },
      "source": [
        "## Training"
      ]
    },
    {
      "cell_type": "markdown",
      "metadata": {
        "id": "BhZmyZt0ski_"
      },
      "source": [
        "Upload your own image for training."
      ]
    },
    {
      "cell_type": "code",
      "execution_count": null,
      "metadata": {
        "id": "MIOeC2JUss5K"
      },
      "outputs": [],
      "source": [
        "from google.colab import files\n",
        "\n",
        "uploaded = files.upload()"
      ]
    },
    {
      "cell_type": "code",
      "execution_count": null,
      "metadata": {
        "id": "HruIjK2Qs7gJ"
      },
      "outputs": [],
      "source": [
        "import os\n",
        "\n",
        "for key in uploaded.keys():\n",
        "  img_filename = key\n",
        "\n",
        "os.environ['UPLOADED_IMAGE_FILENAME'] = img_filename"
      ]
    },
    {
      "cell_type": "markdown",
      "metadata": {
        "id": "ShyDo0JMs-04"
      },
      "source": [
        "Train a SinGAN model on the uploaded image."
      ]
    },
    {
      "cell_type": "code",
      "execution_count": null,
      "metadata": {
        "id": "4wVO-oOBujSF"
      },
      "outputs": [],
      "source": [
        "!python main.py train --image $UPLOADED_IMAGE_FILENAME --num_scales 8"
      ]
    },
    {
      "cell_type": "markdown",
      "metadata": {
        "id": "E-drxVMGMOt0"
      },
      "source": [
        "Compress the trained model, so that it would be easier to download."
      ]
    },
    {
      "cell_type": "code",
      "execution_count": null,
      "metadata": {
        "id": "RYaX4rMg9pwS"
      },
      "outputs": [],
      "source": [
        "!tar -zcvf training_checkpoints.tar.gz ./training_checkpoints/"
      ]
    },
    {
      "cell_type": "markdown",
      "metadata": {
        "id": "eGePd65ZvHj1"
      },
      "source": [
        "## Random Sampling"
      ]
    },
    {
      "cell_type": "code",
      "execution_count": null,
      "metadata": {
        "id": "iMFcfkIHtEr-"
      },
      "outputs": [],
      "source": [
        "!python main.py inference --image $UPLOADED_IMAGE_FILENAME  --dir ./training_checkpoints  --mode random_sample  --inject_scale 1"
      ]
    },
    {
      "cell_type": "markdown",
      "metadata": {
        "id": "00nQSJG1vcxV"
      },
      "source": [
        "Display the generated images."
      ]
    },
    {
      "cell_type": "code",
      "execution_count": null,
      "metadata": {
        "id": "uSLik9pFMuLX"
      },
      "outputs": [],
      "source": [
        "import matplotlib.pyplot as plt\n",
        "import cv2\n",
        "\n",
        "input_images_path = './results/random_sample'\n",
        "items = os.listdir(input_images_path)    \n",
        "\n",
        "for each_image in items:\n",
        "  if each_image.endswith(\".jpg\"):\n",
        "    full_path = input_images_path + '/' + each_image\n",
        "    image = cv2.imread(full_path)\n",
        "    image = cv2.cvtColor(image,cv2.COLOR_BGR2RGB)\n",
        "    plt.figure()\n",
        "    plt.imshow(image)\n",
        "    plt.grid(False)\n",
        "    plt.title(each_image)"
      ]
    },
    {
      "cell_type": "markdown",
      "metadata": {
        "id": "cMBEaFpsv6wO"
      },
      "source": [
        "## Harmonization"
      ]
    },
    {
      "cell_type": "markdown",
      "metadata": {
        "id": "nmXmWIqOLhQZ"
      },
      "source": [
        "Upload an image for harmonization."
      ]
    },
    {
      "cell_type": "code",
      "execution_count": null,
      "metadata": {
        "id": "_lrdmgtYMG9-"
      },
      "outputs": [],
      "source": [
        "uploaded = files.upload()"
      ]
    },
    {
      "cell_type": "code",
      "execution_count": null,
      "metadata": {
        "id": "mIZR4Kc-MLdT"
      },
      "outputs": [],
      "source": [
        "for key in uploaded.keys():\n",
        "  img_filename = key\n",
        "\n",
        "os.environ['UPLOADED_HARMONIZATION_IMAGE_FILENAME'] = img_filename"
      ]
    },
    {
      "cell_type": "markdown",
      "metadata": {
        "id": "qWesBghWL7RY"
      },
      "source": [
        "Do harmonization."
      ]
    },
    {
      "cell_type": "code",
      "execution_count": null,
      "metadata": {
        "id": "uOLmUBcZwCoI"
      },
      "outputs": [],
      "source": [
        "!python main.py inference --image $UPLOADED_HARMONIZATION_IMAGE_FILENAME  --dir ./training_checkpoints  --mode harmonization  --inject_scale 5"
      ]
    },
    {
      "cell_type": "markdown",
      "metadata": {},
      "source": [
        "The generated image is save into the *./results/harmonization/* directory"
      ]
    }
  ],
  "metadata": {
    "accelerator": "GPU",
    "colab": {
      "collapsed_sections": [],
      "name": "SinGAN TensorFlow.ipynb",
      "provenance": []
    },
    "kernelspec": {
      "display_name": "Python 3",
      "name": "python3"
    },
    "language_info": {
      "name": "python"
    }
  },
  "nbformat": 4,
  "nbformat_minor": 0
}
