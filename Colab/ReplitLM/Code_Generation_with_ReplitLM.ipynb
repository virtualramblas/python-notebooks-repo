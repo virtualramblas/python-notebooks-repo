{
  "cells": [
    {
      "cell_type": "markdown",
      "metadata": {
        "id": "-3mn1T4ZySgq"
      },
      "source": [
        "# Code Generation with ReplitLM\n",
        "A notebook to generate code in any of the programming languages for which the [ReplitLM](https://github.com/replit/ReplitLM) model has been trained.  \n",
        "No hardware acceleration required.  "
      ]
    },
    {
      "cell_type": "markdown",
      "metadata": {
        "id": "xx79u_4lj_IY"
      },
      "source": [
        "Install the missing requirements in the Colab VMs."
      ]
    },
    {
      "cell_type": "code",
      "execution_count": null,
      "metadata": {
        "id": "9U6ItlZ7kDG6"
      },
      "outputs": [],
      "source": [
        "!pip install transformers sentencepiece einops accelerate"
      ]
    },
    {
      "cell_type": "markdown",
      "metadata": {
        "id": "4mi9WYGSj50n"
      },
      "source": [
        "Download model and tokenizer using the Hugging Face's Transformer library."
      ]
    },
    {
      "cell_type": "code",
      "execution_count": null,
      "metadata": {
        "id": "M9MOpgmjjmR2"
      },
      "outputs": [],
      "source": [
        "import torch\n",
        "from transformers import AutoTokenizer, AutoModelForCausalLM, set_seed\n",
        "\n",
        "model_id = \"replit/replit-code-v1-3b\"\n",
        "PAD_TOKEN = \"<|pad|>\"\n",
        "EOS_TOKEN = \"<|endoftext|>\"\n",
        "UNK_TOKEN = \"<|unk|>\"\n",
        "MAX_INPUT_TOKENS = 1024\n",
        "\n",
        "device = \"cuda\" if torch.cuda.is_available() else \"cpu\"\n",
        "\n",
        "tokenizer = AutoTokenizer.from_pretrained(model_id, trust_remote_code=True)\n",
        "tokenizer.truncation_side = \"left\" \n",
        "if device == \"cuda\":\n",
        "    model = AutoModelForCausalLM.from_pretrained(model_id, trust_remote_code=True, low_cpu_mem_usage=True).to(device, dtype=torch.bfloat16)\n",
        "else:\n",
        "    model = AutoModelForCausalLM.from_pretrained(model_id, trust_remote_code=True, low_cpu_mem_usage=True)\n",
        "model.eval()"
      ]
    },
    {
      "cell_type": "markdown",
      "metadata": {
        "id": "vDOmfexBk1nn"
      },
      "source": [
        "Set the prompt and the values of other model parameters."
      ]
    },
    {
      "cell_type": "code",
      "execution_count": null,
      "metadata": {
        "id": "HA4ztsPhk8Jv"
      },
      "outputs": [],
      "source": [
        "prompt = 'def sieve_eratosthenes(n):' #@param {type:\"string\"}\n",
        "max_tokens = 112 #@param {type:\"slider\", min:10, max:1024, step:1}\n",
        "temperature = 0.2 #@param {type:\"slider\", min:0.1, max:2.5, step:0.1}\n",
        "seed = 42 #@param {type:\"slider\", min:0, max:1000, step:1}\n",
        "top_p = 0.9 #@param {type:\"slider\", min:0, max:1, step:0.1}\n",
        "top_k = 4 #@param {type:\"slider\", min:1, max:64, step:1}\n",
        "repetition_penalty = 1.0 #@param {type:\"slider\", min:1.0, max:1.9, step:0.1}\n",
        "use_cache = True #@param {type:\"boolean\"}\n"
      ]
    },
    {
      "cell_type": "markdown",
      "metadata": {
        "id": "cffzlKHVlFno"
      },
      "source": [
        "Generate code."
      ]
    },
    {
      "cell_type": "code",
      "execution_count": null,
      "metadata": {
        "id": "O4qwOPHvlH5O"
      },
      "outputs": [],
      "source": [
        "model_input = tokenizer.encode(prompt, return_tensors=\"pt\", max_length=MAX_INPUT_TOKENS, truncation=True).to(device)\n",
        "set_seed(seed)\n",
        "model_output = model.generate(model_input, \n",
        "                   max_length=max_tokens, \n",
        "                   do_sample=True, \n",
        "                   top_p=top_p, \n",
        "                   top_k=top_k, \n",
        "                   temperature=temperature, \n",
        "                   num_return_sequences=1, \n",
        "                   repetition_penalty = repetition_penalty,\n",
        "                   pad_token_id=tokenizer.pad_token_id,\n",
        "                   eos_token_id=tokenizer.eos_token_id,\n",
        "                   use_cache=use_cache,)"
      ]
    },
    {
      "cell_type": "markdown",
      "metadata": {
        "id": "Eeede5DdlPyF"
      },
      "source": [
        "Decode the generated output."
      ]
    },
    {
      "cell_type": "code",
      "execution_count": null,
      "metadata": {
        "id": "7woibwtKlTDm"
      },
      "outputs": [],
      "source": [
        "generated_code = tokenizer.decode(model_output[0], skip_special_tokens=True, clean_up_tokenization_spaces=False)\n",
        "print(generated_code)\n",
        "prompt = generated_code"
      ]
    }
  ],
  "metadata": {
    "accelerator": "GPU",
    "colab": {
      "gpuType": "T4",
      "provenance": []
    },
    "gpuClass": "standard",
    "kernelspec": {
      "display_name": "Python 3",
      "name": "python3"
    },
    "language_info": {
      "name": "python"
    }
  },
  "nbformat": 4,
  "nbformat_minor": 0
}
