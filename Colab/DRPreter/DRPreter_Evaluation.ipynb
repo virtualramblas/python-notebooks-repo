{
  "nbformat": 4,
  "nbformat_minor": 0,
  "metadata": {
    "colab": {
      "provenance": []
    },
    "kernelspec": {
      "name": "python3",
      "display_name": "Python 3"
    },
    "language_info": {
      "name": "python"
    },
    "accelerator": "GPU",
    "gpuClass": "standard"
  },
  "cells": [
    {
      "cell_type": "markdown",
      "source": [
        "# DRPreter Paper Evaluation\n",
        "This notebook contains code to evaluate (training and test) the **DRPreter: Interpretable Anticancer Drug Response Prediction Using Knowledge-Guided Graph Neural Networks and Transformer** [paper](https://www.mdpi.com/1422-0067/23/22/13919).  \n",
        "![DRPreter](https://user-images.githubusercontent.com/68269057/198502117-785291dd-af73-40d3-8fed-0e8881404119.png)  \n",
        "DRPreter learns cell line and drug information with graph neural networks; the cell-line graph is further divided into multiple subgraphs with domain knowledge on biological pathways. A type-aware transformer in DRPreter helps detect relationships between pathways and a drug, highlighting important pathways that are involved in the drug response.  \n",
        "A GPU runtime is required to execute the code in this notebook."
      ],
      "metadata": {
        "id": "jtjVaxBsS1Bq"
      }
    },
    {
      "cell_type": "markdown",
      "source": [
        "## Settings"
      ],
      "metadata": {
        "id": "-uxa3bWQF_YA"
      }
    },
    {
      "cell_type": "markdown",
      "source": [
        "Clone the official GitHub repository."
      ],
      "metadata": {
        "id": "ZjRfS90p-PUH"
      }
    },
    {
      "cell_type": "code",
      "execution_count": null,
      "metadata": {
        "id": "_DOaNrqm9_IS"
      },
      "outputs": [],
      "source": [
        "!git clone https://github.com/babaling/DRPreter.git\n",
        "%cd DRPreter"
      ]
    },
    {
      "cell_type": "markdown",
      "source": [
        "No need to install all of the Python packages indicated in the provided *geometric.yaml* file: only few of the DRPtreter required dependencies (*torch-geometric*, *torch-sparse*, *torch-scatter*, *rdkit*, *dgllife* and *dgl*) are't available by default in the Colab VMs. So, these need to be installed before proceeding with the paper evaluation.  \n",
        "First, identify the current version of PyTorch and CUDA. These info are needed to identify the proper version of *torch-sparse* and *torch-scatter* to install and run properly in Colab."
      ],
      "metadata": {
        "id": "dIkPs75bAWQm"
      }
    },
    {
      "cell_type": "code",
      "source": [
        "import torch\n",
        "\n",
        "def format_pytorch_version(version):\n",
        "  return version.split('+')[0]\n",
        "\n",
        "TORCH_version = torch.__version__\n",
        "TORCH = format_pytorch_version(TORCH_version)\n",
        "\n",
        "def format_cuda_version(version):\n",
        "  return 'cu' + version.replace('.', '')\n",
        "\n",
        "CUDA_version = torch.version.cuda\n",
        "CUDA = format_cuda_version(CUDA_version)"
      ],
      "metadata": {
        "id": "PQJksdDxCGDF"
      },
      "execution_count": null,
      "outputs": []
    },
    {
      "cell_type": "markdown",
      "source": [
        "Then, install the missing packages. Please note the strict version requirement for torch-geometric: release 1.7.1 has been chosen, as indicated in the repo. Anyway it should be < 2.0."
      ],
      "metadata": {
        "id": "cvs2vThvUi8H"
      }
    },
    {
      "cell_type": "code",
      "source": [
        "!pip install pyg-lib -f https://pytorch-geometric.com/whl/torch-{TORCH}+{CUDA}.html\n",
        "!pip install torch-scatter -f https://pytorch-geometric.com/whl/torch-{TORCH}+{CUDA}.html\n",
        "!pip install torch-sparse -f https://pytorch-geometric.com/whl/torch-{TORCH}+{CUDA}.html\n",
        "!pip install torch-geometric==1.7.1\n",
        "!pip install rdkit dgllife dgl"
      ],
      "metadata": {
        "id": "JiQro1o2j1sv"
      },
      "execution_count": null,
      "outputs": []
    },
    {
      "cell_type": "markdown",
      "source": [
        "Create the cell-line data."
      ],
      "metadata": {
        "id": "t5pQcck6Wy4a"
      }
    },
    {
      "cell_type": "code",
      "source": [
        "!python ./cellline_graph.py"
      ],
      "metadata": {
        "id": "hKjmvDc2eNrc"
      },
      "execution_count": null,
      "outputs": []
    },
    {
      "cell_type": "markdown",
      "source": [
        "Create the drug data."
      ],
      "metadata": {
        "id": "Ddli5q3wmP1n"
      }
    },
    {
      "cell_type": "code",
      "source": [
        "!python ./drug_graph.py"
      ],
      "metadata": {
        "id": "wPRzQ-P-mXUn"
      },
      "execution_count": null,
      "outputs": []
    },
    {
      "cell_type": "markdown",
      "source": [
        "## Training"
      ],
      "metadata": {
        "id": "-_gtPJVWGFT0"
      }
    },
    {
      "cell_type": "markdown",
      "source": [
        "You can skip this section and move straight to the **Test** section if you don't want to train a new model.  "
      ],
      "metadata": {
        "id": "4IYeI78kXBm9"
      }
    },
    {
      "cell_type": "markdown",
      "source": [
        "Create the directory where to store the results, as it isn't automatically created by the provided training script."
      ],
      "metadata": {
        "id": "3XHQdHPTXTIi"
      }
    },
    {
      "cell_type": "code",
      "source": [
        "!mkdir ./Result"
      ],
      "metadata": {
        "id": "SDZC5AIlpaVK"
      },
      "execution_count": null,
      "outputs": []
    },
    {
      "cell_type": "markdown",
      "source": [
        "Set the number of epochs."
      ],
      "metadata": {
        "id": "Oi70UROEXpYS"
      }
    },
    {
      "cell_type": "code",
      "source": [
        "%env EPOCHS_NUM = 10"
      ],
      "metadata": {
        "id": "UlxyUAdNXtJE"
      },
      "execution_count": null,
      "outputs": []
    },
    {
      "cell_type": "markdown",
      "source": [
        "Start the training."
      ],
      "metadata": {
        "id": "cvw31TkyXen0"
      }
    },
    {
      "cell_type": "code",
      "source": [
        "!python ./main.py --mode train --epochs $EPOCHS_NUM"
      ],
      "metadata": {
        "id": "Z7iufe2_-deS"
      },
      "execution_count": null,
      "outputs": []
    },
    {
      "cell_type": "markdown",
      "source": [
        "A results summary is printed to the output of the previous cell, but full result data are saved to files, so it is possible to have a look at them too.  \n",
        "Load the results data first."
      ],
      "metadata": {
        "id": "3dLNxecBI7gE"
      }
    },
    {
      "cell_type": "code",
      "source": [
        "import pandas as pd\n",
        "\n",
        "result_txt_df = pd.read_csv('./Result/results_seed42.txt', sep=\"\\t\") \n",
        "result_csv_df = pd.read_csv('./Result/results_df_seed42.csv', sep=\"\\t\")"
      ],
      "metadata": {
        "id": "pPpDs34QIkMe"
      },
      "execution_count": null,
      "outputs": []
    },
    {
      "cell_type": "markdown",
      "source": [
        "Then display the performance metrics..."
      ],
      "metadata": {
        "id": "uwf8ts-mKNNH"
      }
    },
    {
      "cell_type": "code",
      "source": [
        "result_txt_df"
      ],
      "metadata": {
        "id": "aO40gc8vJoPa"
      },
      "execution_count": null,
      "outputs": []
    },
    {
      "cell_type": "markdown",
      "source": [
        "... and the predictions versus true values too."
      ],
      "metadata": {
        "id": "0N9H5PDYKSvn"
      }
    },
    {
      "cell_type": "code",
      "source": [
        "result_csv_df"
      ],
      "metadata": {
        "id": "VeYGQrT8Jwx9"
      },
      "execution_count": null,
      "outputs": []
    },
    {
      "cell_type": "markdown",
      "source": [
        "## Test"
      ],
      "metadata": {
        "id": "S0FsVCKaGK1a"
      }
    },
    {
      "cell_type": "markdown",
      "source": [
        "This section is in case you want only test the pretrained models released by the paper's authors."
      ],
      "metadata": {
        "id": "8eY_ARu8hukD"
      }
    },
    {
      "cell_type": "markdown",
      "source": [
        "Select a seed."
      ],
      "metadata": {
        "id": "ylm_aIHUh6Tw"
      }
    },
    {
      "cell_type": "code",
      "source": [
        "#@title Test Options\n",
        "\n",
        "seed_to_test = \"653\" #@param [\"2\", \"16\", \"33\", \"61\", \"79\", \"100\", \"220\", \"653\", \"1004\", \"4001\"]\n",
        "\n",
        "import os\n",
        "\n",
        "os.environ['SEED_TO_TEST'] = seed_to_test"
      ],
      "metadata": {
        "id": "vYVCtVxdijS4"
      },
      "execution_count": null,
      "outputs": []
    },
    {
      "cell_type": "markdown",
      "source": [
        "Start testing the selected pretrained model. A test results summary is printed to the output of the code cell."
      ],
      "metadata": {
        "id": "JamOPJ7XkwJB"
      }
    },
    {
      "cell_type": "code",
      "source": [
        "!python main.py --mode test --seed $SEED_TO_TEST"
      ],
      "metadata": {
        "id": "yhUf2u6W-irF"
      },
      "execution_count": null,
      "outputs": []
    }
  ]
}