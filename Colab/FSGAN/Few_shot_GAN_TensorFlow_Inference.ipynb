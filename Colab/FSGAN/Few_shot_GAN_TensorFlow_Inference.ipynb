{
  "nbformat": 4,
  "nbformat_minor": 0,
  "metadata": {
    "colab": {
      "name": "Few-shot GAN TensorFlow - Inference.ipynb",
      "provenance": []
    },
    "kernelspec": {
      "name": "python3",
      "display_name": "Python 3"
    },
    "language_info": {
      "name": "python"
    },
    "accelerator": "GPU"
  },
  "cells": [
    {
      "cell_type": "markdown",
      "source": [
        "# Few-shot Adaptation GAN in TensorFlow - Image Generation\n",
        "This notebook performs image generation using a Few-Shot GAN (FSGAN). The official code is availble on GitHub and related to the following [paper](https://arxiv.org/pdf/2010.11943.pdf). Credits:  \n",
        "\n",
        "\n",
        "```\n",
        "@article{robb2020fsgan,\n",
        "  title   = {Few-Shot Adaptation of Generative Adversarial Networks},\n",
        "  author  = {Robb, Esther and Chu, Wen-Sheng and Kumar, Abhishek and Huang, Jia-Bin},\n",
        "  journal = {arXiv preprint arXiv:2010.11943},\n",
        "  year    = {2020}\n",
        "}\n",
        "```  \n",
        "A GPU runtime is required to execute the code in this notebook.\n",
        "\n"
      ],
      "metadata": {
        "id": "NBy_EAIxaGYu"
      }
    },
    {
      "cell_type": "markdown",
      "source": [
        "### Settings"
      ],
      "metadata": {
        "id": "9b5St56YbmGC"
      }
    },
    {
      "cell_type": "markdown",
      "source": [
        "Clone the official GitHub repository."
      ],
      "metadata": {
        "id": "IIKEt0t2FYYJ"
      }
    },
    {
      "cell_type": "code",
      "source": [
        "!git clone https://github.com/e-271/few-shot-gan.git\n",
        "%cd few-shot-gan"
      ],
      "metadata": {
        "id": "X_UCLKbvFcs3"
      },
      "execution_count": null,
      "outputs": []
    },
    {
      "cell_type": "markdown",
      "source": [
        "Switch to TensorFlow 1.x, as the official implementation of this code isn't compatible with TensorFlow 2.x."
      ],
      "metadata": {
        "id": "aprZYAdCHm6M"
      }
    },
    {
      "cell_type": "code",
      "source": [
        "%tensorflow_version 1.x\n",
        "\n",
        "import tensorflow\n",
        "print(tensorflow.__version__)"
      ],
      "metadata": {
        "id": "1liD8nxRHq23"
      },
      "execution_count": null,
      "outputs": []
    },
    {
      "cell_type": "markdown",
      "source": [
        "### Inference"
      ],
      "metadata": {
        "id": "Jmm9oA-DDL_G"
      }
    },
    {
      "cell_type": "markdown",
      "source": [
        "Download pre-trained checkpoint. Multiple pre-trained models are available from the paper's authors. In this notebook we are going to use a model pre-trained on Vincent van Gogh paintings. Future releases will allow selection of different checkpoints."
      ],
      "metadata": {
        "id": "xD4PpWKIEu4i"
      }
    },
    {
      "cell_type": "code",
      "source": [
        "!mkdir ./checkpoints"
      ],
      "metadata": {
        "id": "iszu9CrEFpRp"
      },
      "execution_count": null,
      "outputs": []
    },
    {
      "cell_type": "code",
      "execution_count": null,
      "metadata": {
        "id": "gkRaAwp3C3Mz"
      },
      "outputs": [],
      "source": [
        "%cd ./checkpoints\n",
        "!gdown --id 1uObQa4Q0EkSJYOALZSnb96U_t9wMFMBe\n",
        "%cd .."
      ]
    },
    {
      "cell_type": "markdown",
      "source": [
        "Generate images."
      ],
      "metadata": {
        "id": "wO_t0u8wF0aW"
      }
    },
    {
      "cell_type": "code",
      "source": [
        "!python run_generator.py generate-images --network=./checkpoints/gogh-pca-000020.pkl --seeds=0-100"
      ],
      "metadata": {
        "id": "aN75RiZTGmzz"
      },
      "execution_count": null,
      "outputs": []
    },
    {
      "cell_type": "markdown",
      "source": [
        "Browse the generated images."
      ],
      "metadata": {
        "id": "ZyvqtAINIa9x"
      }
    },
    {
      "cell_type": "code",
      "source": [
        "import os\n",
        "from IPython.display import Image, display\n",
        "from IPython.html.widgets import interact\n",
        "\n",
        "input_images_path = './results/00000-generate-images'\n",
        "imgs = list(filter(lambda fn:fn.lower().endswith('.jpg'), os.listdir(input_images_path)))\n",
        "def loadimg(k):\n",
        "    display(Image(open(os.path.join(input_images_path, imgs[k]), 'rb').read()))\n",
        "interact(loadimg, k=(0, len(imgs)-1))"
      ],
      "metadata": {
        "id": "RPqzwHWiuSWV"
      },
      "execution_count": null,
      "outputs": []
    },
    {
      "cell_type": "code",
      "source": [
        ""
      ],
      "metadata": {
        "id": "PyCSEuRuu1a5"
      },
      "execution_count": null,
      "outputs": []
    }
  ]
}