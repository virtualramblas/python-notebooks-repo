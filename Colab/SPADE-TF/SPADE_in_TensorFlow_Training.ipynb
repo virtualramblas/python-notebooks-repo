{
  "cells": [
    {
      "cell_type": "markdown",
      "metadata": {
        "id": "aq93kTTSJmtR"
      },
      "source": [
        "### Settings"
      ]
    },
    {
      "cell_type": "markdown",
      "metadata": {
        "id": "aGMy3OGlRmPQ"
      },
      "source": [
        "Clone the GitHub repository from taki0112."
      ]
    },
    {
      "cell_type": "code",
      "execution_count": null,
      "metadata": {
        "id": "QAODRNncRpuI"
      },
      "outputs": [],
      "source": [
        "!git clone https://github.com/taki0112/SPADE-Tensorflow.git\n",
        "%cd ./SPADE-Tensorflow"
      ]
    },
    {
      "cell_type": "markdown",
      "metadata": {
        "id": "GuwPmynVRucS"
      },
      "source": [
        "Switch to TensorFlow 1.x, as the implementation of this code is in TensorFlow 1."
      ]
    },
    {
      "cell_type": "code",
      "execution_count": null,
      "metadata": {
        "id": "zpNhD4LHRvl4"
      },
      "outputs": [],
      "source": [
        "%tensorflow_version 1.x"
      ]
    },
    {
      "cell_type": "markdown",
      "metadata": {
        "id": "LeENv3t_JqiG"
      },
      "source": [
        "### Training"
      ]
    },
    {
      "cell_type": "markdown",
      "metadata": {
        "id": "tBVfoO0797FV"
      },
      "source": [
        "Start training."
      ]
    },
    {
      "cell_type": "code",
      "execution_count": null,
      "metadata": {
        "id": "vcI76Z909pWJ"
      },
      "outputs": [],
      "source": [
        "!python ./main.py --dataset spade_celebA --img_ch 3 --segmap_ch 3 --epoch 10 --iteration 100 --phase train"
      ]
    },
    {
      "cell_type": "markdown",
      "metadata": {
        "id": "byic54PrEgUL"
      },
      "source": [
        "Analyze the training logs in TensorBoard offline."
      ]
    },
    {
      "cell_type": "code",
      "execution_count": null,
      "metadata": {
        "id": "rIQ6MzmREn55"
      },
      "outputs": [],
      "source": [
        "%load_ext tensorboard"
      ]
    },
    {
      "cell_type": "code",
      "execution_count": null,
      "metadata": {
        "id": "SeQbjFkVEsFs"
      },
      "outputs": [],
      "source": [
        "%tensorboard --logdir ./logs"
      ]
    },
    {
      "cell_type": "markdown",
      "metadata": {
        "id": "gashfRdXIsrH"
      },
      "source": [
        "### Testing"
      ]
    },
    {
      "cell_type": "markdown",
      "metadata": {
        "id": "7aIa8XqBIxdg"
      },
      "source": [
        "Downgrade scipy to release 1.2.0."
      ]
    },
    {
      "cell_type": "code",
      "execution_count": null,
      "metadata": {
        "id": "g2qHUkWIIwds"
      },
      "outputs": [],
      "source": [
        "!pip install scipy==1.2.0"
      ]
    },
    {
      "cell_type": "markdown",
      "metadata": {
        "id": "1DxtNzogAdBW"
      },
      "source": [
        "Do a random test with the pre-trained model."
      ]
    },
    {
      "cell_type": "code",
      "execution_count": null,
      "metadata": {
        "id": "kviecJ22AjRW"
      },
      "outputs": [],
      "source": [
        "!python main.py --checkpoint_dir ./checkpoint/ --dataset spade_celebA --segmap_ch 3 --phase random"
      ]
    },
    {
      "cell_type": "markdown",
      "metadata": {
        "id": "39qviJqqDgQa"
      },
      "source": [
        "Display the results."
      ]
    },
    {
      "cell_type": "code",
      "execution_count": null,
      "metadata": {
        "id": "yp6OMMr2Dj80"
      },
      "outputs": [],
      "source": [
        "!rm -f ./results/SPADE_spade_celebA_hinge_2multi_4dis_1_1_10_10_0.05_sn_TTUR_more/index.html"
      ]
    },
    {
      "cell_type": "code",
      "execution_count": null,
      "metadata": {
        "id": "Yz1WYK7sDmrN"
      },
      "outputs": [],
      "source": [
        "import cv2\n",
        "import os\n",
        "import matplotlib.pyplot as plt\n",
        "\n",
        "image_output_dir = './results/SPADE_spade_celebA_hinge_2multi_4dis_1_1_10_10_0.05_sn_TTUR_more'\n",
        "items = os.listdir(image_output_dir)\n",
        "items.sort()   \n",
        "\n",
        "generated_image_count = len(items)\n",
        "image_index = 0\n",
        "rows = 5\n",
        "cols = 3\n",
        "fig, axes = plt.subplots(nrows=rows, ncols=cols, figsize=(15,15))\n",
        "\n",
        "for i in range(rows):\n",
        "    for j in range(cols):  \n",
        "      if image_index < generated_image_count:\n",
        "        full_path = image_output_dir + '/' + items[image_index]\n",
        "        image = cv2.imread(full_path)\n",
        "        image = cv2.cvtColor(image,cv2.COLOR_BGR2RGB)      \n",
        "        axes[i, j].imshow(image)\n",
        "        axes[i, j].set_title(items[image_index])\n",
        "        image_index+=1"
      ]
    }
  ],
  "metadata": {
    "accelerator": "GPU",
    "colab": {
      "collapsed_sections": [],
      "name": "SPADE in TensorFlow - Training.ipynb",
      "provenance": []
    },
    "kernelspec": {
      "display_name": "Python 3",
      "name": "python3"
    },
    "language_info": {
      "name": "python"
    }
  },
  "nbformat": 4,
  "nbformat_minor": 0
}
