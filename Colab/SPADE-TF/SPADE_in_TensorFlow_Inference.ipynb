{
  "cells": [
    {
      "cell_type": "markdown",
      "metadata": {
        "id": "uPgoceONA6MF"
      },
      "source": [
        "# Semantic Image Synthesis with SPADE in TensorFlow\n",
        "The code in this notebook is to do Semantic Image Synthesis using a [TensorFlow](https://www.tensorflow.org/) implementation of the NVIDIA's SPADE [paper](https://arxiv.org/abs/1903.07291). Credits for TF porting go to [taki0112](https://github.com/taki0112).  \n",
        "Tests are performed using a pre-trained model on the [CelebAMask-HQ](https://github.com/switchablenorms/CelebAMask-HQ) dataset.  \n",
        "Please switch to a GPU runtime before executing the code in this notebook. "
      ]
    },
    {
      "cell_type": "markdown",
      "metadata": {
        "id": "-UiI6CHoCVED"
      },
      "source": [
        "### Settings"
      ]
    },
    {
      "cell_type": "markdown",
      "metadata": {
        "id": "qghgwm3zLkC7"
      },
      "source": [
        "Clone the GitHub repository from taki0112."
      ]
    },
    {
      "cell_type": "code",
      "execution_count": null,
      "metadata": {
        "id": "N1z1K5yVLfJO"
      },
      "outputs": [],
      "source": [
        "!git clone https://github.com/taki0112/SPADE-Tensorflow.git\n",
        "%cd ./SPADE-Tensorflow"
      ]
    },
    {
      "cell_type": "markdown",
      "metadata": {
        "id": "Sf-ntRrSQGTG"
      },
      "source": [
        "Switch to TensorFlow 1.x, as the implementation of this code is in TensorFlow 1."
      ]
    },
    {
      "cell_type": "code",
      "execution_count": null,
      "metadata": {
        "id": "dsI6kfnBQLQb"
      },
      "outputs": [],
      "source": [
        "%tensorflow_version 1.x"
      ]
    },
    {
      "cell_type": "markdown",
      "metadata": {
        "id": "gTHrHPTzky_c"
      },
      "source": [
        "Downgrade scipy to release 1.2.0."
      ]
    },
    {
      "cell_type": "code",
      "execution_count": null,
      "metadata": {
        "id": "0ie8dq0Mk36T"
      },
      "outputs": [],
      "source": [
        "!pip install scipy==1.2.0"
      ]
    },
    {
      "cell_type": "markdown",
      "metadata": {
        "id": "MCuIMJe6MdyN"
      },
      "source": [
        "Download the model checkpoint (pre-trained on the CelebAMask-HQ dataset).  \n",
        "The checkpoint size is 1.76 GB."
      ]
    },
    {
      "cell_type": "code",
      "execution_count": null,
      "metadata": {
        "id": "GWJ6KrIPNBf5"
      },
      "outputs": [],
      "source": [
        "!gdown --id 1UIj7eRJeNWrDS-3odyaoLhcqk0tNcEez\n",
        "!unzip ./checkpoint.zip\n",
        "!rm -f ./checkpoint.zip"
      ]
    },
    {
      "cell_type": "markdown",
      "metadata": {
        "id": "7xMQ2didkNGR"
      },
      "source": [
        "Create the segmap label for the test dataset as explainded in https://github.com/taki0112/SPADE-Tensorflow/issues/15"
      ]
    },
    {
      "cell_type": "code",
      "execution_count": null,
      "metadata": {
        "id": "R5RGrO6skMa5"
      },
      "outputs": [],
      "source": [
        "segmap_label_content = '{(0, 0, 0): 0, (0, 0, 255): 1, (255, 0, 0): 2, (150, 30, 150): 3, (255, 65, 255): 4, (150, 80, 0): 5, (170, 120, 65): 6, (125, 125, 125): 7, (255, 255, 0): 8, (0, 255, 255): 9, (255, 150, 0): 10, (255, 225, 120): 11, (255, 125, 125): 12, (200, 100, 100): 13, (0, 255, 0): 14, (0, 150, 80): 15, (215, 175, 125): 16, (220, 180, 210): 17, (125, 125, 255): 18}'\n",
        "with open('./dataset/spade_celebA/segmap_label.txt', 'w') as f:\n",
        "    f.write(segmap_label_content)"
      ]
    },
    {
      "cell_type": "markdown",
      "metadata": {
        "id": "T2Hp9dYSDvt3"
      },
      "source": [
        "### Semantic Image Synthesis Tests"
      ]
    },
    {
      "cell_type": "markdown",
      "metadata": {
        "id": "LwqYleFRNNGx"
      },
      "source": [
        "Random test using the pre-trained model."
      ]
    },
    {
      "cell_type": "code",
      "execution_count": null,
      "metadata": {
        "id": "wgUwMCSvNR8A"
      },
      "outputs": [],
      "source": [
        "!python main.py --checkpoint_dir . --dataset spade_celebA --segmap_ch 3 --phase random"
      ]
    },
    {
      "cell_type": "markdown",
      "metadata": {
        "id": "8zihjuUJNaCa"
      },
      "source": [
        "Display the results."
      ]
    },
    {
      "cell_type": "code",
      "execution_count": null,
      "metadata": {
        "id": "tNUrjDDMMPxx"
      },
      "outputs": [],
      "source": [
        "!rm -f ./results/SPADE_spade_celebA_hinge_2multi_4dis_1_1_10_10_0.05_sn_TTUR_more/index.html"
      ]
    },
    {
      "cell_type": "code",
      "execution_count": null,
      "metadata": {
        "id": "gQGLdzmnHr_Q"
      },
      "outputs": [],
      "source": [
        "import cv2\n",
        "import os\n",
        "import matplotlib.pyplot as plt\n",
        "\n",
        "image_output_dir = './results/SPADE_spade_celebA_hinge_2multi_4dis_1_1_10_10_0.05_sn_TTUR_more'\n",
        "items = os.listdir(image_output_dir)\n",
        "items.sort()   \n",
        "\n",
        "generated_image_count = len(items)\n",
        "image_index = 0\n",
        "rows = 5\n",
        "cols = 3\n",
        "fig, axes = plt.subplots(nrows=rows, ncols=cols, figsize=(15,15))\n",
        "\n",
        "for i in range(rows):\n",
        "    for j in range(cols):  \n",
        "      if image_index < generated_image_count:\n",
        "        full_path = image_output_dir + '/' + items[image_index]\n",
        "        image = cv2.imread(full_path)\n",
        "        image = cv2.cvtColor(image,cv2.COLOR_BGR2RGB)      \n",
        "        axes[i, j].imshow(image)\n",
        "        axes[i, j].set_title(items[image_index])\n",
        "        image_index+=1"
      ]
    }
  ],
  "metadata": {
    "accelerator": "GPU",
    "colab": {
      "collapsed_sections": [],
      "name": "SPADE in TensorFlow - Inference.ipynb",
      "provenance": []
    },
    "kernelspec": {
      "display_name": "Python 3",
      "name": "python3"
    },
    "language_info": {
      "name": "python"
    }
  },
  "nbformat": 4,
  "nbformat_minor": 0
}
