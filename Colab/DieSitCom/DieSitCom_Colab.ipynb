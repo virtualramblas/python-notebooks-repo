{
  "nbformat": 4,
  "nbformat_minor": 0,
  "metadata": {
    "colab": {
      "name": "DieSitCom Colab.ipynb",
      "provenance": [],
      "toc_visible": true
    },
    "kernelspec": {
      "name": "python3",
      "display_name": "Python 3"
    },
    "language_info": {
      "name": "python"
    }
  },
  "cells": [
    {
      "cell_type": "markdown",
      "metadata": {
        "id": "nXJu35zLMDeZ"
      },
      "source": [
        "#DieSitCom Colab\n",
        "A notebook to run the minimal [Streamlit](https://streamlit.io/)-based viewer for [DICOM](https://www.dicomstandard.org/) data by [Matteo Mancini](https://neurosnippets.com/posts/diesitcom/).  \n",
        "This notebook is also a good reference to understand how to run Streamlit apps in Colab."
      ]
    },
    {
      "cell_type": "markdown",
      "metadata": {
        "id": "uQ2q9VEoNxt4"
      },
      "source": [
        "Install the missing requirements for the Streamlit app."
      ]
    },
    {
      "cell_type": "code",
      "metadata": {
        "id": "hJDbBu30L4U3"
      },
      "source": [
        "!pip install SimpleITK==2.0.2"
      ],
      "execution_count": null,
      "outputs": []
    },
    {
      "cell_type": "code",
      "metadata": {
        "id": "xk3-lPVyOldx"
      },
      "source": [
        "!pip install streamlit"
      ],
      "execution_count": null,
      "outputs": []
    },
    {
      "cell_type": "markdown",
      "metadata": {
        "id": "pfbhSeCzS09l"
      },
      "source": [
        "Get the DieSitCom app script."
      ]
    },
    {
      "cell_type": "code",
      "metadata": {
        "id": "tPzKn_nBS113"
      },
      "source": [
        "!wget https://raw.githubusercontent.com/matteomancini/neurosnippets/master/brainviz/diesitcom/diesitcom.py"
      ],
      "execution_count": null,
      "outputs": []
    },
    {
      "cell_type": "markdown",
      "metadata": {
        "id": "_WOgKbjfUlpl"
      },
      "source": [
        "Download some DICOM (MRI brain scanner) sample data. Replace the code in the cells below in order to download your own DICOM data."
      ]
    },
    {
      "cell_type": "code",
      "metadata": {
        "id": "NbdMiY35YwyV"
      },
      "source": [
        "!mkdir data"
      ],
      "execution_count": null,
      "outputs": []
    },
    {
      "cell_type": "code",
      "metadata": {
        "id": "4UwJzg4FY21P"
      },
      "source": [
        "%cd ./data/"
      ],
      "execution_count": null,
      "outputs": []
    },
    {
      "cell_type": "code",
      "metadata": {
        "id": "oO_hHTlEUmV4"
      },
      "source": [
        "!wget https://github.com/plotly/dash-vtk/raw/master/demos/data/mri_brain/1-01.dcm\n",
        "!wget https://github.com/plotly/dash-vtk/raw/master/demos/data/mri_brain/1-02.dcm\n",
        "!wget https://github.com/plotly/dash-vtk/raw/master/demos/data/mri_brain/1-03.dcm\n",
        "!wget https://github.com/plotly/dash-vtk/raw/master/demos/data/mri_brain/1-04.dcm\n",
        "!wget https://github.com/plotly/dash-vtk/raw/master/demos/data/mri_brain/1-05.dcm\n",
        "!wget https://github.com/plotly/dash-vtk/raw/master/demos/data/mri_brain/1-06.dcm\n",
        "!wget https://github.com/plotly/dash-vtk/raw/master/demos/data/mri_brain/1-07.dcm\n",
        "!wget https://github.com/plotly/dash-vtk/raw/master/demos/data/mri_brain/1-08.dcm\n",
        "!wget https://github.com/plotly/dash-vtk/raw/master/demos/data/mri_brain/1-09.dcm\n",
        "!wget https://github.com/plotly/dash-vtk/raw/master/demos/data/mri_brain/1-10.dcm\n",
        "!wget https://github.com/plotly/dash-vtk/raw/master/demos/data/mri_brain/1-11.dcm\n",
        "!wget https://github.com/plotly/dash-vtk/raw/master/demos/data/mri_brain/1-12.dcm\n",
        "!wget https://github.com/plotly/dash-vtk/raw/master/demos/data/mri_brain/1-13.dcm\n",
        "!wget https://github.com/plotly/dash-vtk/raw/master/demos/data/mri_brain/1-14.dcm\n",
        "!wget https://github.com/plotly/dash-vtk/raw/master/demos/data/mri_brain/1-15.dcm\n",
        "!wget https://github.com/plotly/dash-vtk/raw/master/demos/data/mri_brain/1-16.dcm\n",
        "!wget https://github.com/plotly/dash-vtk/raw/master/demos/data/mri_brain/1-17.dcm\n",
        "!wget https://github.com/plotly/dash-vtk/raw/master/demos/data/mri_brain/1-18.dcm\n",
        "!wget https://github.com/plotly/dash-vtk/raw/master/demos/data/mri_brain/1-19.dcm\n",
        "!wget https://github.com/plotly/dash-vtk/raw/master/demos/data/mri_brain/1-20.dcm\n",
        "!wget https://github.com/plotly/dash-vtk/raw/master/demos/data/mri_brain/1-21.dcm\n",
        "!wget https://github.com/plotly/dash-vtk/raw/master/demos/data/mri_brain/1-22.dcm\n",
        "!wget https://github.com/plotly/dash-vtk/raw/master/demos/data/mri_brain/1-23.dcm\n",
        "!wget https://github.com/plotly/dash-vtk/raw/master/demos/data/mri_brain/1-24.dcm"
      ],
      "execution_count": null,
      "outputs": []
    },
    {
      "cell_type": "code",
      "metadata": {
        "id": "fRh-bWZaZLov"
      },
      "source": [
        "%cd .."
      ],
      "execution_count": null,
      "outputs": []
    },
    {
      "cell_type": "markdown",
      "metadata": {
        "id": "O3ClQe8-Oy5H"
      },
      "source": [
        "Install [ngrok](https://github.com/inconshreveable/ngrok). It is an Open Source reverse proxy that creates a secure tunnel from a public endpoint to a locally running web service. This is needed to access the Streamlit app UI running within this notebook."
      ]
    },
    {
      "cell_type": "code",
      "metadata": {
        "id": "XHfz-nEzOzVy"
      },
      "source": [
        "!wget https://bin.equinox.io/c/4VmDzA7iaHb/ngrok-stable-linux-amd64.zip"
      ],
      "execution_count": null,
      "outputs": []
    },
    {
      "cell_type": "code",
      "metadata": {
        "id": "OFVhwwnaQXOE"
      },
      "source": [
        "!unzip ngrok-stable-linux-amd64.zip"
      ],
      "execution_count": null,
      "outputs": []
    },
    {
      "cell_type": "code",
      "metadata": {
        "id": "ZJLjjJ6xZSmt"
      },
      "source": [
        "!rm ./ngrok-stable-linux-amd64.zip"
      ],
      "execution_count": null,
      "outputs": []
    },
    {
      "cell_type": "markdown",
      "metadata": {
        "id": "eo0ffRSAQln5"
      },
      "source": [
        "Create a tunnel to port 8501 (the default port for Streamlit apps). Once the tunnel has been created, follow the instruction that will be sent to the output of the next cells in order to start the DICOM viewer app and access its UI from the web browser."
      ]
    },
    {
      "cell_type": "code",
      "metadata": {
        "id": "ZZgreyNiQerP"
      },
      "source": [
        "get_ipython().system_raw('./ngrok http 8501 &')"
      ],
      "execution_count": null,
      "outputs": []
    },
    {
      "cell_type": "code",
      "metadata": {
        "id": "PVbQYFWsTR0l"
      },
      "source": [
        "!curl -s http://localhost:4040/api/tunnels | python3 -c \\\n",
        "    'import sys, json; print(\"Execute the next cell and the go to the following URL: \" +json.load(sys.stdin)[\"tunnels\"][0][\"public_url\"])'"
      ],
      "execution_count": null,
      "outputs": []
    },
    {
      "cell_type": "code",
      "metadata": {
        "id": "udfBBOhKTVK8"
      },
      "source": [
        "!streamlit run ./diesitcom.py"
      ],
      "execution_count": null,
      "outputs": []
    }
  ]
}