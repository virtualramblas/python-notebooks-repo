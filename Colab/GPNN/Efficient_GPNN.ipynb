{
  "nbformat": 4,
  "nbformat_minor": 0,
  "metadata": {
    "colab": {
      "name": "Efficient-GPNN.ipynb",
      "provenance": []
    },
    "kernelspec": {
      "name": "python3",
      "display_name": "Python 3"
    },
    "language_info": {
      "name": "python"
    },
    "accelerator": "GPU"
  },
  "cells": [
    {
      "cell_type": "markdown",
      "source": [
        "# Efficient-GPNN\n",
        "A notebook to test the tasks (image reshuffling, retargeting and style transfer) available for the efficient [PyTorch](https://pytorch.org) implementation of the [GPNN](https://arxiv.org/abs/2103.15545) paper.  \n",
        "A GPU runtime is needed to execute the code in this notebook.  \n"
      ],
      "metadata": {
        "id": "F18CvTUtQMqG"
      }
    },
    {
      "cell_type": "markdown",
      "source": [
        "## Settings"
      ],
      "metadata": {
        "id": "NDdhI7jwRx9N"
      }
    },
    {
      "cell_type": "markdown",
      "source": [
        "Clone the official GitHub repository."
      ],
      "metadata": {
        "id": "fBziJ7bSqXbJ"
      }
    },
    {
      "cell_type": "code",
      "execution_count": null,
      "metadata": {
        "id": "vZLu7tdCqPWt"
      },
      "outputs": [],
      "source": [
        "!git clone https://github.com/ariel415el/Efficient-GPNN.git\n",
        "%cd Efficient-GPNN"
      ]
    },
    {
      "cell_type": "markdown",
      "source": [
        "Install FAISS for GPU. It is a library for efficient similarity search and clustering of dense vectors, written in C++ with complete wrappers for Python."
      ],
      "metadata": {
        "id": "OoVjUWd9qnfd"
      }
    },
    {
      "cell_type": "code",
      "source": [
        "!pip install faiss-gpu"
      ],
      "metadata": {
        "id": "py_1gXhNtvxz"
      },
      "execution_count": null,
      "outputs": []
    },
    {
      "cell_type": "markdown",
      "source": [
        "Define a function to browse the generated images. It will be used for retargeting and style transfer results."
      ],
      "metadata": {
        "id": "fPQrwSrGUsZ3"
      }
    },
    {
      "cell_type": "code",
      "source": [
        "import os\n",
        "from IPython.display import Image, display\n",
        "\n",
        "def loadimg(k, images_path):\n",
        "    display(Image(open(os.path.join(images_path, imgs[k]), 'rb').read()))"
      ],
      "metadata": {
        "id": "xv3aOaOLUv5j"
      },
      "execution_count": null,
      "outputs": []
    },
    {
      "cell_type": "markdown",
      "source": [
        "## Image Generation"
      ],
      "metadata": {
        "id": "jQdqvV9FU97l"
      }
    },
    {
      "cell_type": "markdown",
      "source": [
        "Do image reshuffling."
      ],
      "metadata": {
        "id": "15ZVslN9tw8_"
      }
    },
    {
      "cell_type": "code",
      "source": [
        "!python ./scripts/reshuffle.py"
      ],
      "metadata": {
        "id": "c1GrVxSwt_Tg"
      },
      "execution_count": null,
      "outputs": []
    },
    {
      "cell_type": "markdown",
      "source": [
        "The generated images are saved in the */content/Efficient-GPNN/outputs/reshuffling* directory."
      ],
      "metadata": {
        "id": "Iu4xkZ4wVDqM"
      }
    },
    {
      "cell_type": "markdown",
      "source": [
        "Do image retargeting."
      ],
      "metadata": {
        "id": "lYc7QSVxwtxd"
      }
    },
    {
      "cell_type": "code",
      "source": [
        "!python ./scripts/retarget.py"
      ],
      "metadata": {
        "id": "IY3i2O_Mt_Vk"
      },
      "execution_count": null,
      "outputs": []
    },
    {
      "cell_type": "markdown",
      "source": [
        "Browse the generated images."
      ],
      "metadata": {
        "id": "k1C4mW1LUPqB"
      }
    },
    {
      "cell_type": "code",
      "source": [
        "from IPython.html.widgets import interact\n",
        "\n",
        "output_images_path = './outputs/retarget/SIGD16/NN-PytorchNNLowMem(GPU,alpha=0.005)_R-256_S-0.85->14+I(0,1.5)'\n",
        "imgs = list(filter(lambda fn:fn.lower().endswith('.jpg'), os.listdir(output_images_path)))\n",
        "interact(loadimg, k=(0, len(imgs)-1), images_path=output_images_path)"
      ],
      "metadata": {
        "id": "ouhNMkLKUTVd"
      },
      "execution_count": null,
      "outputs": []
    },
    {
      "cell_type": "markdown",
      "source": [
        "Do image style transfer."
      ],
      "metadata": {
        "id": "biH-4BzyxkLa"
      }
    },
    {
      "cell_type": "code",
      "source": [
        "!python ./scripts/style_transfer.py"
      ],
      "metadata": {
        "id": "P0B0V84fx6y2"
      },
      "execution_count": null,
      "outputs": []
    },
    {
      "cell_type": "markdown",
      "source": [
        "Browse the generated images."
      ],
      "metadata": {
        "id": "gGLu2Lb_W6wy"
      }
    },
    {
      "cell_type": "code",
      "source": [
        "output_images_path = './outputs/style_transfer/FaisIVFPQ(GPU)_1024x0.75->1024'\n",
        "imgs = list(filter(lambda fn:fn.lower().endswith('.jpg'), os.listdir(output_images_path)))\n",
        "interact(loadimg, k=(0, len(imgs)-1), images_path=output_images_path)"
      ],
      "metadata": {
        "id": "E7Y0AuqoMH0v"
      },
      "execution_count": null,
      "outputs": []
    }
  ]
}