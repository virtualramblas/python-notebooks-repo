{
  "nbformat": 4,
  "nbformat_minor": 0,
  "metadata": {
    "colab": {
      "name": "Vit Pytorch PoC.ipynb",
      "provenance": []
    },
    "kernelspec": {
      "name": "python3",
      "display_name": "Python 3"
    },
    "accelerator": "GPU"
  },
  "cells": [
    {
      "cell_type": "markdown",
      "metadata": {
        "id": "vKm2EYlcIFIV"
      },
      "source": [
        "Install Vit with Linformer."
      ]
    },
    {
      "cell_type": "code",
      "metadata": {
        "id": "fKZkhwHPx4NF"
      },
      "source": [
        "!pip -q install vit_pytorch linformer"
      ],
      "execution_count": null,
      "outputs": []
    },
    {
      "cell_type": "markdown",
      "metadata": {
        "id": "fqS_UN1hIW2g"
      },
      "source": [
        "Import the required Python dependencies."
      ]
    },
    {
      "cell_type": "code",
      "metadata": {
        "id": "kto7xxtqIcY-"
      },
      "source": [
        "from __future__ import print_function\r\n",
        "\r\n",
        "import glob\r\n",
        "from itertools import chain\r\n",
        "import os\r\n",
        "import random\r\n",
        "import zipfile\r\n",
        "\r\n",
        "import matplotlib.pyplot as plt\r\n",
        "import numpy as np\r\n",
        "import pandas as pd\r\n",
        "import torch\r\n",
        "import torch.nn as nn\r\n",
        "import torch.nn.functional as F\r\n",
        "import torch.optim as optim\r\n",
        "from linformer import Linformer\r\n",
        "from PIL import Image\r\n",
        "from sklearn.model_selection import train_test_split\r\n",
        "from torch.optim.lr_scheduler import StepLR\r\n",
        "from torch.utils.data import DataLoader, Dataset\r\n",
        "from torchvision import datasets, transforms\r\n",
        "from tqdm.notebook import tqdm\r\n",
        "\r\n",
        "from vit_pytorch.efficient import ViT"
      ],
      "execution_count": null,
      "outputs": []
    },
    {
      "cell_type": "markdown",
      "metadata": {
        "id": "16UF2gAOIofL"
      },
      "source": [
        "## Data Download\r\n",
        "The data set used for this PoC comes from a Kaggle competition: https://www.kaggle.com/c/dogs-vs-cats-redux-kernels-edition\r\n",
        "Before proceeding with the download, please follow these steps:\r\n",
        "\r\n",
        "\r\n",
        "1.   Login to Kaggle and go to the **Account** section of your profile.\r\n",
        "2.   Scroll to the **API** section and click on the **Create New API Token** button. This action will create a *kaggle.json* file and download it to your local disk.\r\n",
        "\r\n"
      ]
    },
    {
      "cell_type": "markdown",
      "metadata": {
        "id": "fKxCsdGWOFXi"
      },
      "source": [
        "Then install the Python *kaggle* package."
      ]
    },
    {
      "cell_type": "code",
      "metadata": {
        "id": "3ESZAtj6OMBs"
      },
      "source": [
        "! pip install -q kaggle"
      ],
      "execution_count": null,
      "outputs": []
    },
    {
      "cell_type": "markdown",
      "metadata": {
        "id": "5174jcyHOSey"
      },
      "source": [
        "Upload the generated *kaggle.json* file to Colab."
      ]
    },
    {
      "cell_type": "code",
      "metadata": {
        "id": "kuRLnY7WIpaH"
      },
      "source": [
        "from google.colab import files\r\n",
        "\r\n",
        "files.upload()"
      ],
      "execution_count": null,
      "outputs": []
    },
    {
      "cell_type": "markdown",
      "metadata": {
        "id": "n4g2AZQsOwiw"
      },
      "source": [
        "Make a directory named *kaggle* and copy the *kaggle.json* file there. Change the permissions of the file then."
      ]
    },
    {
      "cell_type": "code",
      "metadata": {
        "id": "dz--p-ZJO1bg"
      },
      "source": [
        "!mkdir ~/.kaggle\r\n",
        "!cp kaggle.json ~/.kaggle/\r\n",
        "!chmod 600 ~/.kaggle/kaggle.json"
      ],
      "execution_count": null,
      "outputs": []
    },
    {
      "cell_type": "markdown",
      "metadata": {
        "id": "O-N1eVPZPQPV"
      },
      "source": [
        "Check that everything is OK."
      ]
    },
    {
      "cell_type": "code",
      "metadata": {
        "id": "epmc5Wq3PWtt"
      },
      "source": [
        " !kaggle datasets list"
      ],
      "execution_count": null,
      "outputs": []
    },
    {
      "cell_type": "markdown",
      "metadata": {
        "id": "7XPmLWTYPe2c"
      },
      "source": [
        "Download the data providing the name of the competition the data set belongs to."
      ]
    },
    {
      "cell_type": "code",
      "metadata": {
        "id": "Z572JQfWPoaI"
      },
      "source": [
        "!kaggle competitions download -c 'dogs-vs-cats-redux-kernels-edition'"
      ],
      "execution_count": null,
      "outputs": []
    },
    {
      "cell_type": "markdown",
      "metadata": {
        "id": "ywz9k5M5Qg6t"
      },
      "source": [
        "Extract the train and test data."
      ]
    },
    {
      "cell_type": "code",
      "metadata": {
        "id": "2TBev1YkQldH"
      },
      "source": [
        "!unzip train.zip"
      ],
      "execution_count": null,
      "outputs": []
    },
    {
      "cell_type": "code",
      "metadata": {
        "id": "79gGPlJTQ_4G"
      },
      "source": [
        "!unzip test.zip"
      ],
      "execution_count": null,
      "outputs": []
    },
    {
      "cell_type": "markdown",
      "metadata": {
        "id": "EDP1WKpiRQ-8"
      },
      "source": [
        "## Data Loading"
      ]
    },
    {
      "cell_type": "code",
      "metadata": {
        "id": "eV7vglEgRVQg"
      },
      "source": [
        "train_dir = './train'\r\n",
        "test_dir = './test'"
      ],
      "execution_count": null,
      "outputs": []
    },
    {
      "cell_type": "code",
      "metadata": {
        "id": "qNKbIEDoRdRv"
      },
      "source": [
        "train_list = glob.glob(os.path.join(train_dir,'*.jpg'))\r\n",
        "test_list = glob.glob(os.path.join(test_dir, '*.jpg'))"
      ],
      "execution_count": null,
      "outputs": []
    },
    {
      "cell_type": "code",
      "metadata": {
        "id": "b8zQ0bMjRfUK"
      },
      "source": [
        "print(f\"Train Data: {len(train_list)}\")\r\n",
        "print(f\"Test Data: {len(test_list)}\")"
      ],
      "execution_count": null,
      "outputs": []
    },
    {
      "cell_type": "code",
      "metadata": {
        "id": "831tAOy_Rje9"
      },
      "source": [
        "labels = [path.split('/')[-1].split('.')[0] for path in train_list]"
      ],
      "execution_count": null,
      "outputs": []
    },
    {
      "cell_type": "markdown",
      "metadata": {
        "id": "0uWtx0JjRqgW"
      },
      "source": [
        "Plot some random images."
      ]
    },
    {
      "cell_type": "code",
      "metadata": {
        "id": "NSPpy0oPRteW"
      },
      "source": [
        "random_idx = np.random.randint(1, len(train_list), size=9)\r\n",
        "fig, axes = plt.subplots(3, 3, figsize=(16, 12))\r\n",
        "\r\n",
        "for idx, ax in enumerate(axes.ravel()):\r\n",
        "    img = Image.open(train_list[idx])\r\n",
        "    ax.set_title(labels[idx])\r\n",
        "    ax.imshow(img)"
      ],
      "execution_count": null,
      "outputs": []
    },
    {
      "cell_type": "markdown",
      "metadata": {
        "id": "UniZ-vc6Siy1"
      },
      "source": [
        "# Training"
      ]
    },
    {
      "cell_type": "markdown",
      "metadata": {
        "id": "No_fJCviSlXs"
      },
      "source": [
        "Set the seed."
      ]
    },
    {
      "cell_type": "code",
      "metadata": {
        "id": "Ps-PnCkASrmX"
      },
      "source": [
        "def seed_everything(seed):\r\n",
        "    random.seed(seed)\r\n",
        "    os.environ['PYTHONHASHSEED'] = str(seed)\r\n",
        "    np.random.seed(seed)\r\n",
        "    torch.manual_seed(seed)\r\n",
        "    torch.cuda.manual_seed(seed)\r\n",
        "    torch.cuda.manual_seed_all(seed)\r\n",
        "    torch.backends.cudnn.deterministic = True\r\n",
        "\r\n",
        "seed = 42\r\n",
        "seed_everything(seed)"
      ],
      "execution_count": null,
      "outputs": []
    },
    {
      "cell_type": "markdown",
      "metadata": {
        "id": "3C-xdmBuTUPP"
      },
      "source": [
        "Set training params."
      ]
    },
    {
      "cell_type": "code",
      "metadata": {
        "id": "hexNlGCATWsI"
      },
      "source": [
        "batch_size = 64\r\n",
        "epochs = 20\r\n",
        "lr = 3e-5\r\n",
        "gamma = 0.7"
      ],
      "execution_count": null,
      "outputs": []
    },
    {
      "cell_type": "markdown",
      "metadata": {
        "id": "ybq0-qs_Ti94"
      },
      "source": [
        "Set the device."
      ]
    },
    {
      "cell_type": "code",
      "metadata": {
        "id": "-HhXbcNYTk0H"
      },
      "source": [
        "device = 'cuda'"
      ],
      "execution_count": null,
      "outputs": []
    },
    {
      "cell_type": "markdown",
      "metadata": {
        "id": "0I-ClSGhTrCM"
      },
      "source": [
        "Split the data for training and testing."
      ]
    },
    {
      "cell_type": "code",
      "metadata": {
        "id": "Fce9MpRfTuy-"
      },
      "source": [
        "train_list, valid_list = train_test_split(train_list, \r\n",
        "                                          test_size=0.2,\r\n",
        "                                          stratify=labels,\r\n",
        "                                          random_state=seed)"
      ],
      "execution_count": null,
      "outputs": []
    },
    {
      "cell_type": "code",
      "metadata": {
        "id": "ArTySdouUR5d"
      },
      "source": [
        "print(f\"Train Data: {len(train_list)}\")\r\n",
        "print(f\"Validation Data: {len(valid_list)}\")\r\n",
        "print(f\"Test Data: {len(test_list)}\")"
      ],
      "execution_count": null,
      "outputs": []
    },
    {
      "cell_type": "markdown",
      "metadata": {
        "id": "dYs7SMgeUeqA"
      },
      "source": [
        "Define the image augmentation (resize to 224x224, random rezise crop and random horizontal flip) to use."
      ]
    },
    {
      "cell_type": "code",
      "metadata": {
        "id": "62QDrpYXUlmc"
      },
      "source": [
        "train_transforms = transforms.Compose(\r\n",
        "    [\r\n",
        "        transforms.Resize((224, 224)),\r\n",
        "        transforms.RandomResizedCrop(224),\r\n",
        "        transforms.RandomHorizontalFlip(),\r\n",
        "        transforms.ToTensor(),\r\n",
        "    ]\r\n",
        ")\r\n",
        "\r\n",
        "val_transforms = transforms.Compose(\r\n",
        "    [\r\n",
        "        transforms.Resize((224, 224)),\r\n",
        "        transforms.RandomResizedCrop(224),\r\n",
        "        transforms.RandomHorizontalFlip(),\r\n",
        "        transforms.ToTensor(),\r\n",
        "    ]\r\n",
        ")\r\n",
        "\r\n",
        "\r\n",
        "test_transforms = transforms.Compose(\r\n",
        "    [\r\n",
        "        transforms.Resize((224, 224)),\r\n",
        "        transforms.RandomResizedCrop(224),\r\n",
        "        transforms.RandomHorizontalFlip(),\r\n",
        "        transforms.ToTensor(),\r\n",
        "    ]\r\n",
        ")"
      ],
      "execution_count": null,
      "outputs": []
    },
    {
      "cell_type": "markdown",
      "metadata": {
        "id": "DfG5TfE_U2Ke"
      },
      "source": [
        "Load the data sets."
      ]
    },
    {
      "cell_type": "code",
      "metadata": {
        "id": "za6DpZ-nU4v9"
      },
      "source": [
        "class CatsDogsDataset(Dataset):\r\n",
        "    def __init__(self, file_list, transform=None):\r\n",
        "        self.file_list = file_list\r\n",
        "        self.transform = transform\r\n",
        "\r\n",
        "    def __len__(self):\r\n",
        "        self.filelength = len(self.file_list)\r\n",
        "        return self.filelength\r\n",
        "\r\n",
        "    def __getitem__(self, idx):\r\n",
        "        img_path = self.file_list[idx]\r\n",
        "        img = Image.open(img_path)\r\n",
        "        img_transformed = self.transform(img)\r\n",
        "\r\n",
        "        label = img_path.split(\"/\")[-1].split(\".\")[0]\r\n",
        "        label = 1 if label == \"dog\" else 0\r\n",
        "\r\n",
        "        return img_transformed, label"
      ],
      "execution_count": null,
      "outputs": []
    },
    {
      "cell_type": "code",
      "metadata": {
        "id": "T3HdNkXDVAJr"
      },
      "source": [
        "train_data = CatsDogsDataset(train_list, transform=train_transforms)\r\n",
        "valid_data = CatsDogsDataset(valid_list, transform=test_transforms)\r\n",
        "test_data = CatsDogsDataset(test_list, transform=test_transforms)"
      ],
      "execution_count": null,
      "outputs": []
    },
    {
      "cell_type": "code",
      "metadata": {
        "id": "Gws8zs4wVc3P"
      },
      "source": [
        "train_loader = DataLoader(dataset = train_data, batch_size=batch_size, shuffle=True )\r\n",
        "valid_loader = DataLoader(dataset = valid_data, batch_size=batch_size, shuffle=True)\r\n",
        "test_loader = DataLoader(dataset = test_data, batch_size=batch_size, shuffle=True)"
      ],
      "execution_count": null,
      "outputs": []
    },
    {
      "cell_type": "code",
      "metadata": {
        "id": "CXdQATtZVhS1"
      },
      "source": [
        "print(len(train_data), len(train_loader))"
      ],
      "execution_count": null,
      "outputs": []
    },
    {
      "cell_type": "code",
      "metadata": {
        "id": "Px8XeRQdVntF"
      },
      "source": [
        "print(len(valid_data), len(valid_loader))"
      ],
      "execution_count": null,
      "outputs": []
    },
    {
      "cell_type": "markdown",
      "metadata": {
        "id": "2STROs1LV1qg"
      },
      "source": [
        "Define the model.\r\n",
        "Linformer:"
      ]
    },
    {
      "cell_type": "code",
      "metadata": {
        "id": "hJfONW3EVsnr"
      },
      "source": [
        "efficient_transformer = Linformer(\r\n",
        "    dim=128,\r\n",
        "    seq_len=49+1,  # 7x7 patches + 1 cls-token\r\n",
        "    depth=12,\r\n",
        "    heads=8,\r\n",
        "    k=64\r\n",
        ")"
      ],
      "execution_count": null,
      "outputs": []
    },
    {
      "cell_type": "markdown",
      "metadata": {
        "id": "vSyyelx8V_Dv"
      },
      "source": [
        "Visual Transformer:"
      ]
    },
    {
      "cell_type": "code",
      "metadata": {
        "id": "YPPklPegWBPv"
      },
      "source": [
        "model = ViT(\r\n",
        "    dim=128,\r\n",
        "    image_size=224,\r\n",
        "    patch_size=32,\r\n",
        "    num_classes=2,\r\n",
        "    transformer=efficient_transformer,\r\n",
        "    channels=3,\r\n",
        ").to(device)"
      ],
      "execution_count": null,
      "outputs": []
    },
    {
      "cell_type": "markdown",
      "metadata": {
        "id": "ejx12PnoWFxN"
      },
      "source": [
        "Choose the loss function."
      ]
    },
    {
      "cell_type": "code",
      "metadata": {
        "id": "bNzkOyBjWIwk"
      },
      "source": [
        "criterion = nn.CrossEntropyLoss()"
      ],
      "execution_count": null,
      "outputs": []
    },
    {
      "cell_type": "markdown",
      "metadata": {
        "id": "Lt1U0XMHWQWG"
      },
      "source": [
        "Choose the optimizer."
      ]
    },
    {
      "cell_type": "code",
      "metadata": {
        "id": "peysDitAWTIX"
      },
      "source": [
        "optimizer = optim.Adam(model.parameters(), lr=lr)"
      ],
      "execution_count": null,
      "outputs": []
    },
    {
      "cell_type": "markdown",
      "metadata": {
        "id": "aZNKdk4GWZyT"
      },
      "source": [
        "Set the scheduler."
      ]
    },
    {
      "cell_type": "code",
      "metadata": {
        "id": "sWnGmVj5WXli"
      },
      "source": [
        "scheduler = StepLR(optimizer, step_size=1, gamma=gamma)"
      ],
      "execution_count": null,
      "outputs": []
    },
    {
      "cell_type": "markdown",
      "metadata": {
        "id": "f_tynobcWiHf"
      },
      "source": [
        "Start the training."
      ]
    },
    {
      "cell_type": "code",
      "metadata": {
        "id": "HitXE9H2Wkpx"
      },
      "source": [
        "for epoch in range(epochs):\r\n",
        "    epoch_loss = 0\r\n",
        "    epoch_accuracy = 0\r\n",
        "\r\n",
        "    for data, label in tqdm(train_loader):\r\n",
        "        data = data.to(device)\r\n",
        "        label = label.to(device)\r\n",
        "\r\n",
        "        output = model(data)\r\n",
        "        loss = criterion(output, label)\r\n",
        "\r\n",
        "        optimizer.zero_grad()\r\n",
        "        loss.backward()\r\n",
        "        optimizer.step()\r\n",
        "\r\n",
        "        acc = (output.argmax(dim=1) == label).float().mean()\r\n",
        "        epoch_accuracy += acc / len(train_loader)\r\n",
        "        epoch_loss += loss / len(train_loader)\r\n",
        "\r\n",
        "    with torch.no_grad():\r\n",
        "        epoch_val_accuracy = 0\r\n",
        "        epoch_val_loss = 0\r\n",
        "        for data, label in valid_loader:\r\n",
        "            data = data.to(device)\r\n",
        "            label = label.to(device)\r\n",
        "\r\n",
        "            val_output = model(data)\r\n",
        "            val_loss = criterion(val_output, label)\r\n",
        "\r\n",
        "            acc = (val_output.argmax(dim=1) == label).float().mean()\r\n",
        "            epoch_val_accuracy += acc / len(valid_loader)\r\n",
        "            epoch_val_loss += val_loss / len(valid_loader)\r\n",
        "\r\n",
        "    print(\r\n",
        "        f\"Epoch : {epoch+1} - loss : {epoch_loss:.4f} - acc: {epoch_accuracy:.4f} - val_loss : {epoch_val_loss:.4f} - val_acc: {epoch_val_accuracy:.4f}\\n\"\r\n",
        "    )"
      ],
      "execution_count": null,
      "outputs": []
    },
    {
      "cell_type": "markdown",
      "metadata": {
        "id": "FTa4lHEMjc6W"
      },
      "source": [
        "Save the model."
      ]
    },
    {
      "cell_type": "code",
      "metadata": {
        "id": "XqPkVrXljfnd"
      },
      "source": [
        "torch.save(model.state_dict(), './pretrained-vit-net.pt')"
      ],
      "execution_count": null,
      "outputs": []
    },
    {
      "cell_type": "markdown",
      "metadata": {
        "id": "qs2Xg8Mpj2E7"
      },
      "source": [
        "Do some prediction."
      ]
    },
    {
      "cell_type": "code",
      "metadata": {
        "id": "OayQm5rmj5oe"
      },
      "source": [
        "img = torch.randn(1, 3, 224, 224)"
      ],
      "execution_count": null,
      "outputs": []
    },
    {
      "cell_type": "code",
      "metadata": {
        "id": "bZURWYJRkBur"
      },
      "source": [
        "pred = model(img.to(device))"
      ],
      "execution_count": null,
      "outputs": []
    },
    {
      "cell_type": "code",
      "metadata": {
        "id": "JAoPHNTqlVyA"
      },
      "source": [
        "pred"
      ],
      "execution_count": null,
      "outputs": []
    },
    {
      "cell_type": "code",
      "metadata": {
        "id": "7OsdaPMUlsvV"
      },
      "source": [
        "prediction = pred.cpu().data.numpy().argmax()"
      ],
      "execution_count": null,
      "outputs": []
    },
    {
      "cell_type": "code",
      "metadata": {
        "id": "buEEQgE0l_mf"
      },
      "source": [
        "prediction"
      ],
      "execution_count": null,
      "outputs": []
    },
    {
      "cell_type": "code",
      "metadata": {
        "id": "V5WHk2mhmFCv"
      },
      "source": [
        "labels[prediction]"
      ],
      "execution_count": null,
      "outputs": []
    }
  ]
}