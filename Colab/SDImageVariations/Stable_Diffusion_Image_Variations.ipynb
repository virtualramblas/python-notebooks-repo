{
  "cells": [
    {
      "attachments": {},
      "cell_type": "markdown",
      "metadata": {
        "id": "qXhK8zq6tLLD"
      },
      "source": [
        "# Stable Diffusion Image Variations\n",
        "A user-friendly notebook for image-to-image generation using a fine-tuned version of Stable Diffusion conditioned on CLIP image embeddings. It uses the code from the [lambad-diffusers](https://github.com/LambdaLabsML/lambda-diffusers) repo.  \n",
        "GPU acceleration is needed to execute the code in this notebook."
      ]
    },
    {
      "cell_type": "markdown",
      "metadata": {
        "id": "KXvZKYK3lWQm"
      },
      "source": [
        "## Settings"
      ]
    },
    {
      "cell_type": "markdown",
      "metadata": {
        "id": "tDN-QZk6x_lY"
      },
      "source": [
        "Clone the lambda diffusers GitHub repo."
      ]
    },
    {
      "cell_type": "code",
      "execution_count": null,
      "metadata": {
        "id": "AmYjRilax662"
      },
      "outputs": [],
      "source": [
        "!git clone https://github.com/LambdaLabsML/lambda-diffusers.git\n",
        "%cd lambda-diffusers"
      ]
    },
    {
      "cell_type": "markdown",
      "metadata": {
        "id": "wXhrjlxyyMsY"
      },
      "source": [
        "Install the requirements. Please refer to the code cell below and don't use the provided requirements.txt file, as it doesn't reflect the latest changes."
      ]
    },
    {
      "cell_type": "code",
      "execution_count": null,
      "metadata": {
        "id": "o6nGRW4QyY5_"
      },
      "outputs": [],
      "source": [
        "!pip install transformers==4.25\n",
        "!pip install ftfy==6.1.1\n",
        "!pip instal lPillow==9.2.0\n",
        "!pip install onnxruntime==1.12.1\n",
        "!pip installscikit-image==0.19.3\n",
        "!pip install -e .\n",
        "!pip install accelerate"
      ]
    },
    {
      "cell_type": "markdown",
      "metadata": {
        "id": "WkFBCyIHyZ-U"
      },
      "source": [
        "Define a function to upload images."
      ]
    },
    {
      "cell_type": "code",
      "execution_count": null,
      "metadata": {
        "id": "H9w8y_Nvyfnb"
      },
      "outputs": [],
      "source": [
        "from google.colab import files\n",
        "\n",
        "def upload_files():\n",
        "  uploaded = files.upload()\n",
        "  for k, v in uploaded.items():\n",
        "    open(k, 'wb').write(v)\n",
        "  return list(uploaded.keys())"
      ]
    },
    {
      "cell_type": "markdown",
      "metadata": {
        "id": "hK8ss2yklaY0"
      },
      "source": [
        "## Image Generation"
      ]
    },
    {
      "cell_type": "markdown",
      "metadata": {
        "id": "O_IOv-mtyjIh"
      },
      "source": [
        "Import the dependencies to be used."
      ]
    },
    {
      "cell_type": "code",
      "execution_count": null,
      "metadata": {
        "id": "nFD0eHSeynU7"
      },
      "outputs": [],
      "source": [
        "import torchvision.transforms as transforms\n",
        "from diffusers import StableDiffusionImageVariationPipeline\n",
        "from PIL import Image"
      ]
    },
    {
      "cell_type": "markdown",
      "metadata": {
        "id": "lYXKh_jAyfBF"
      },
      "source": [
        "Upload an image to be used as input."
      ]
    },
    {
      "cell_type": "code",
      "execution_count": null,
      "metadata": {
        "id": "73hILxyDyiPM"
      },
      "outputs": [],
      "source": [
        "uploaded_image_list = upload_files()\n",
        "input_im = Image.open(uploaded_image_list[0])\n",
        "display(input_im)"
      ]
    },
    {
      "cell_type": "markdown",
      "metadata": {
        "id": "VJjXQKuNypAC"
      },
      "source": [
        "Create the pipeline. The code cell below will take few minutes (depending on the network traffic) as it must download the pretrained SD Image Variations model components."
      ]
    },
    {
      "cell_type": "code",
      "execution_count": null,
      "metadata": {
        "id": "EXD2Ne3FyoUc"
      },
      "outputs": [],
      "source": [
        "device = \"cuda:0\"\n",
        "sd_pipe = StableDiffusionImageVariationPipeline.from_pretrained(\n",
        "  \"lambdalabs/sd-image-variations-diffusers\",\n",
        "  revision=\"v2.0\",\n",
        "  )\n",
        "sd_pipe = sd_pipe.to(device)"
      ]
    },
    {
      "cell_type": "markdown",
      "metadata": {
        "id": "xflqm5gGljP6"
      },
      "source": [
        "Set some Image Variation options."
      ]
    },
    {
      "cell_type": "code",
      "execution_count": null,
      "metadata": {
        "id": "NAqq-5XvlpLx"
      },
      "outputs": [],
      "source": [
        "guidance_scale = 10 #@param {type:\"slider\", min:1, max:20, step:0.5}\n",
        "steps = 50 #@param {type:\"slider\", min:1, max:100, step:1}\n",
        "output_filename = \"result.jpg\" #@param {type: \"string\"}"
      ]
    },
    {
      "cell_type": "markdown",
      "metadata": {
        "id": "GBqwkfDVyv5y"
      },
      "source": [
        "Resize, normalize and finally transform the input image into a PyTorch tensor. "
      ]
    },
    {
      "cell_type": "code",
      "execution_count": null,
      "metadata": {
        "id": "aMQnP-VDy31i"
      },
      "outputs": [],
      "source": [
        "im = Image.open(uploaded_image_list[0])\n",
        "tform = transforms.Compose([\n",
        "    transforms.ToTensor(),\n",
        "    transforms.Resize(\n",
        "        (224, 224),\n",
        "        interpolation=transforms.InterpolationMode.BICUBIC,\n",
        "        antialias=False,\n",
        "        ),\n",
        "    transforms.Normalize(\n",
        "      [0.48145466, 0.4578275, 0.40821073],\n",
        "      [0.26862954, 0.26130258, 0.27577711]),\n",
        "])\n",
        "inp = tform(im).to(device).unsqueeze(0)"
      ]
    },
    {
      "cell_type": "markdown",
      "metadata": {
        "id": "5vELGZacwNRV"
      },
      "source": [
        "Start image-to-image generation."
      ]
    },
    {
      "cell_type": "code",
      "execution_count": null,
      "metadata": {
        "id": "a4HWdUfDy7tW"
      },
      "outputs": [],
      "source": [
        "out = sd_pipe(inp, guidance_scale=guidance_scale, num_inference_steps=steps)\n",
        "out[\"images\"][0].save(output_filename)"
      ]
    },
    {
      "cell_type": "markdown",
      "metadata": {
        "id": "BFnBXcfry4mS"
      },
      "source": [
        "Display the generated image."
      ]
    },
    {
      "cell_type": "code",
      "execution_count": null,
      "metadata": {
        "id": "zXOCWunty_1k"
      },
      "outputs": [],
      "source": [
        "output_im = Image.open(output_filename)\n",
        "display(output_im)"
      ]
    }
  ],
  "metadata": {
    "accelerator": "GPU",
    "colab": {
      "provenance": []
    },
    "gpuClass": "standard",
    "kernelspec": {
      "display_name": "Python 3",
      "name": "python3"
    },
    "language_info": {
      "name": "python"
    }
  },
  "nbformat": 4,
  "nbformat_minor": 0
}
