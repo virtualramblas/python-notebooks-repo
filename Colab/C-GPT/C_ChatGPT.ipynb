{
  "nbformat": 4,
  "nbformat_minor": 0,
  "metadata": {
    "colab": {
      "provenance": []
    },
    "kernelspec": {
      "name": "python3",
      "display_name": "Python 3"
    },
    "language_info": {
      "name": "python"
    }
  },
  "cells": [
    {
      "cell_type": "markdown",
      "source": [
        "A notebook to compile Nicholas Carlini's C-ChatGPT and start a chat with the model within a Colab VM.  \n",
        "More explanations about the code [here](https://nicholas.carlini.com/writing/2023/chat-gpt-2-in-c.html).  \n",
        "No hardware acceleration needed to execute the code in this notebook: a regualr free Colab GPU VM is enough."
      ],
      "metadata": {
        "id": "HVaQl09wwl-L"
      }
    },
    {
      "cell_type": "markdown",
      "source": [
        "## Settings"
      ],
      "metadata": {
        "id": "1foFnaNzxMpe"
      }
    },
    {
      "cell_type": "markdown",
      "source": [
        "Clone the official GitHub repository."
      ],
      "metadata": {
        "id": "mB4mWQ2KxOHU"
      }
    },
    {
      "cell_type": "code",
      "execution_count": null,
      "metadata": {
        "id": "FYToAlwbDHfR"
      },
      "outputs": [],
      "source": [
        "!git clone https://github.com/carlini/c-chat-gpt-2.git\n",
        "%cd c-chat-gpt-2"
      ]
    },
    {
      "cell_type": "markdown",
      "source": [
        "Download the pretrained GPT-2 Small model weights. A bash script has been provided to manage the downlaod, we need just to change the permissions on it to allow execution."
      ],
      "metadata": {
        "id": "R8M4Sn1ixTzt"
      }
    },
    {
      "cell_type": "code",
      "source": [
        "!chmod 744 ./download.sh\n",
        "!./download.sh"
      ],
      "metadata": {
        "id": "CKZzORsWFhlc"
      },
      "execution_count": null,
      "outputs": []
    },
    {
      "cell_type": "markdown",
      "source": [
        "Install the *colab-xterm* Python package, to allow opening a terminal in a Colab notebook code cell (it works on the Colab free tier too) and starting a chat with the model."
      ],
      "metadata": {
        "id": "cDzTuvL0xxdX"
      }
    },
    {
      "cell_type": "code",
      "source": [
        "!pip install colab-xterm\n",
        "%load_ext colabxterm"
      ],
      "metadata": {
        "id": "Cg117Qelx8qC"
      },
      "execution_count": null,
      "outputs": []
    },
    {
      "cell_type": "markdown",
      "source": [
        "## Compilation"
      ],
      "metadata": {
        "id": "i-fZbV11yDfb"
      }
    },
    {
      "cell_type": "markdown",
      "source": [
        "Compile the C code using *gcc*. The *-lm* option to the command to compile the model is mandatory here as, even if in the source code the math.h header is included, in the Linux env for the Colab VMs that library isn't automatically linked, but you need to do it explicitely.  \n",
        "You can ignore few warnings showing in the cell output at compilation time.  \n",
        "At the end of a successful compilation an executable file named *a.out* will be created in the current directory."
      ],
      "metadata": {
        "id": "mrQKX3BkJoHP"
      }
    },
    {
      "cell_type": "code",
      "source": [
        "!gcc -O3 ./c_chat_gpt_2.c -lm"
      ],
      "metadata": {
        "id": "x43keqeEEeM1"
      },
      "execution_count": null,
      "outputs": []
    },
    {
      "cell_type": "markdown",
      "source": [
        "## Inference"
      ],
      "metadata": {
        "id": "nUZzbmLv0EM0"
      }
    },
    {
      "cell_type": "markdown",
      "source": [
        "Launch a terminal and from there execute the compiled a.out file to start a chat session with the model. The command syntax is to use in the terminal is as follows:  \n",
        "*./a.out chekpoints_file_name vocab_file_name chat_history maximum_sequence_length*  \n",
        "Example:\n",
        "\n",
        "\n",
        "````\n",
        "./a.out gpt2-124M.ckpt vocab.bpe \"$(echo -e \"\\nAlice: Hello, how are you doing today?\\nBob: I am doing well. I am a language model trained by OpenAI. How can I assist you?\\nAlice: Can you answer my questions?\\nBob: Yes I will answer your questions. What do you want to know?\\nAlice: What is your name?\\nBob: My name is Bob.\\nAlice: Nice to meet you Bob. I'm alice.\\nBob: How can I help you?\")\" 512````\n",
        "\n",
        "Press Ctrl+C in the terminal to end a chat session."
      ],
      "metadata": {
        "id": "qhF0qyOw82o7"
      }
    },
    {
      "cell_type": "code",
      "source": [
        "%xterm"
      ],
      "metadata": {
        "id": "zCZtbAobrCty"
      },
      "execution_count": null,
      "outputs": []
    }
  ]
}