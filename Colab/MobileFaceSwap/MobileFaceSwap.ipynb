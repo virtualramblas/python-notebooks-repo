{
  "cells": [
    {
      "cell_type": "markdown",
      "metadata": {
        "id": "NSlkZYbj4ivr"
      },
      "source": [
        "# MobileFaceSwap - Inference on CPU\n",
        "A notebook to execute face swap on your images or videos using the [MobileFaceSwap framework](https://arxiv.org/abs/2201.03808), using only CPUs. No need for hardware acceleration in order to execute the code in this notebook cells.  \n",
        "Credits for the MobileFaceSwap paper:  \n",
        "\n",
        "\n",
        "```\n",
        "@inproceedings{xu2022MobileFaceSwap,\n",
        "  title={MobileFaceSwap: A Lightweight Framework for Video Face Swapping},\n",
        "  author={Xu, Zhiliang and Hong, Zhibin and Ding, Changxing and Zhu, Zhen and Han, Junyu and Liu, Jingtuo and Ding, Errui},\n",
        "  booktitle={Proceedings of the AAAI Conference on Artificial Intelligence},\n",
        "  year={2022}\n",
        "}\n",
        "```\n",
        "\n"
      ]
    },
    {
      "cell_type": "markdown",
      "metadata": {
        "id": "IE2o1s5m5c5S"
      },
      "source": [
        "## Settings"
      ]
    },
    {
      "cell_type": "markdown",
      "metadata": {
        "id": "TmIBWT-e5fkq"
      },
      "source": [
        "Clone the official GitHub repository."
      ]
    },
    {
      "cell_type": "code",
      "execution_count": null,
      "metadata": {
        "id": "x7E3Ax7ejd9p"
      },
      "outputs": [],
      "source": [
        "!git clone https://github.com/Seanseattle/MobileFaceSwap.git\n",
        "%cd MobileFaceSwap"
      ]
    },
    {
      "cell_type": "markdown",
      "metadata": {
        "id": "23T02Hzo5kV_"
      },
      "source": [
        "Install the missing dependencies in the Colab runtime (PaddlePaddle, InsightFace and ONNX Runtime)."
      ]
    },
    {
      "cell_type": "code",
      "execution_count": null,
      "metadata": {
        "id": "snI4jaJhjpLY"
      },
      "outputs": [],
      "source": [
        "!pip install paddlepaddle==2.1.2"
      ]
    },
    {
      "cell_type": "code",
      "execution_count": null,
      "metadata": {
        "id": "O9GhC4jBj3J7"
      },
      "outputs": [],
      "source": [
        "!pip install insightface==0.2.1"
      ]
    },
    {
      "cell_type": "code",
      "execution_count": null,
      "metadata": {
        "id": "PbcTfVWXm6bY"
      },
      "outputs": [],
      "source": [
        "!pip install onnxruntime"
      ]
    },
    {
      "cell_type": "markdown",
      "metadata": {
        "id": "VvEyrNiY6agR"
      },
      "source": [
        "Download the pretrained model."
      ]
    },
    {
      "cell_type": "code",
      "execution_count": null,
      "metadata": {
        "id": "TutCOLSCj8Ch"
      },
      "outputs": [],
      "source": [
        "!gdown --id 1ZIzGLDB15GRAZAbkfNR0hNWdgQpxeA_r\n",
        "!tar -xvf ./checkpoints.tar\n",
        "!rm ./checkpoints.tar"
      ]
    },
    {
      "cell_type": "markdown",
      "metadata": {
        "id": "RhffyxrN6yV6"
      },
      "source": [
        "Create a directory where to store the uploaded images and/or videos."
      ]
    },
    {
      "cell_type": "code",
      "execution_count": null,
      "metadata": {
        "id": "F_sgOyDClkPZ"
      },
      "outputs": [],
      "source": [
        "!mkdir ./data"
      ]
    },
    {
      "cell_type": "markdown",
      "metadata": {
        "id": "tkbYUhit7zra"
      },
      "source": [
        "Define a function to upload files to Colab."
      ]
    },
    {
      "cell_type": "code",
      "execution_count": null,
      "metadata": {
        "id": "04npK1Wg79N5"
      },
      "outputs": [],
      "source": [
        "import os\n",
        "import shutil\n",
        "from google.colab import files\n",
        "\n",
        "def upload_files(upload_path):\n",
        "  uploaded = files.upload()\n",
        "  for filename, content in uploaded.items():\n",
        "    dst_path = os.path.join(upload_path, filename)\n",
        "    shutil.move(filename, dst_path)\n",
        "  return list(uploaded.keys())"
      ]
    },
    {
      "cell_type": "markdown",
      "metadata": {
        "id": "OUrmuphT66tF"
      },
      "source": [
        "## Inference"
      ]
    },
    {
      "cell_type": "markdown",
      "metadata": {
        "id": "EOrWbQ-h7C3V"
      },
      "source": [
        "#### Image Swap"
      ]
    },
    {
      "cell_type": "markdown",
      "metadata": {
        "id": "yW_ZOVHc68oU"
      },
      "source": [
        "Upload your own images (source and target)."
      ]
    },
    {
      "cell_type": "code",
      "execution_count": null,
      "metadata": {
        "id": "NTK3uwKN8DIo"
      },
      "outputs": [],
      "source": [
        "image_input_dir = '/content/MobileFaceSwap/data/'\n",
        "uploaded_images = upload_files(image_input_dir)"
      ]
    },
    {
      "cell_type": "code",
      "execution_count": null,
      "metadata": {
        "id": "tv9SAGBwBpwL"
      },
      "outputs": [],
      "source": [
        "os.environ['TARGET_IMAGE'] = uploaded_images[0]\n",
        "os.environ['SOURCE_IMAGE'] = uploaded_images[1]"
      ]
    },
    {
      "cell_type": "markdown",
      "metadata": {
        "id": "QeV71G23IuCc"
      },
      "source": [
        "Run inference."
      ]
    },
    {
      "cell_type": "code",
      "execution_count": null,
      "metadata": {
        "id": "ei3aesMSkYhc"
      },
      "outputs": [],
      "source": [
        "!python ./image_test.py --target_img_path data/$TARGET_IMAGE --source_img_path data/$SOURCE_IMAGE --output_dir results"
      ]
    },
    {
      "cell_type": "markdown",
      "metadata": {
        "id": "eGmUO0r1Cdnm"
      },
      "source": [
        "Display the result."
      ]
    },
    {
      "cell_type": "code",
      "execution_count": null,
      "metadata": {
        "id": "WO19QQjGCf3L"
      },
      "outputs": [],
      "source": [
        "import cv2\n",
        "from google.colab.patches import cv2_imshow\n",
        "\n",
        "img = cv2.imread(os.path.join('./results', uploaded_images[0]))\n",
        "cv2_imshow(img)"
      ]
    },
    {
      "cell_type": "markdown",
      "metadata": {
        "id": "yj-c77qyE7qw"
      },
      "source": [
        "### Video Swap"
      ]
    },
    {
      "cell_type": "markdown",
      "metadata": {
        "id": "z6K89WXxFK8u"
      },
      "source": [
        "Upload your own source image and target video."
      ]
    },
    {
      "cell_type": "code",
      "execution_count": null,
      "metadata": {
        "id": "hK4waac1FRYT"
      },
      "outputs": [],
      "source": [
        "uploaded_image_and_video = upload_files(image_input_dir)"
      ]
    },
    {
      "cell_type": "code",
      "execution_count": null,
      "metadata": {
        "id": "RLtsEXFOGSkM"
      },
      "outputs": [],
      "source": [
        "import fnmatch\n",
        "\n",
        "uploaded_target_video = fnmatch.filter(uploaded_image_and_video, '*mp4')[0]\n",
        "os.environ['TARGET_VIDEO'] = uploaded_target_video\n",
        "os.environ['SOURCE_IMAGE'] = fnmatch.filter(uploaded_image_and_video, '*jpg')[0]"
      ]
    },
    {
      "cell_type": "markdown",
      "metadata": {
        "id": "OC5Hzg1cIyDE"
      },
      "source": [
        "Run inference."
      ]
    },
    {
      "cell_type": "code",
      "execution_count": null,
      "metadata": {
        "id": "kjy2iupskk85"
      },
      "outputs": [],
      "source": [
        "!python ./video_test.py --target_video_path data/$TARGET_VIDEO --source_img_path data/$SOURCE_IMAGE --output_path results "
      ]
    },
    {
      "cell_type": "markdown",
      "metadata": {
        "id": "Ko766eLJJ0Sl"
      },
      "source": [
        "Display the result video."
      ]
    },
    {
      "cell_type": "code",
      "execution_count": null,
      "metadata": {
        "id": "k9aea2vu5DHH"
      },
      "outputs": [],
      "source": [
        "from moviepy.editor import VideoFileClip\n",
        "\n",
        "result_video_path = os.path.join('./results', uploaded_target_video)\n",
        "\n",
        "clip = VideoFileClip(result_video_path)\n",
        "clip.ipython_display(width=280)"
      ]
    }
  ],
  "metadata": {
    "colab": {
      "name": "MobileFaceSwap.ipynb",
      "provenance": []
    },
    "kernelspec": {
      "display_name": "Python 3",
      "name": "python3"
    },
    "language_info": {
      "name": "python"
    }
  },
  "nbformat": 4,
  "nbformat_minor": 0
}
