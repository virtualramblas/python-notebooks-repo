{
  "nbformat": 4,
  "nbformat_minor": 0,
  "metadata": {
    "colab": {
      "name": "Deep Feature Rotation - Simple.ipynb",
      "provenance": []
    },
    "kernelspec": {
      "name": "python3",
      "display_name": "Python 3"
    },
    "language_info": {
      "name": "python"
    },
    "accelerator": "GPU"
  },
  "cells": [
    {
      "cell_type": "markdown",
      "source": [
        "# Deep Feature Rotation (DFR)\n",
        "A notebook to do image style transfer by using the official [TensorFlow](https://www.tensorflow.org/) 2 implementation of the Deep Feature Rotation (DFR) [paper](https://arxiv.org/abs/2202.04426).  While an official Colab notebook has been provided by the paper authors, this one has been implemented to stay in synch with any original code changes as it starts by cloning the official implementation of the paper from GitHub. Also, the possibility to upload content and style images, a form to set up training parameters and code to display the generated images have been provided here.  \n",
        "A GPU runtime is needed to execute the code in this notebook.  \n",
        "Credits for the DFR paper: \n",
        "\n",
        "\n",
        "```\n",
        "@INPROCEEDINGS{9701465,  \n",
        "    author={Nguyen, Son Truong and Tuyen, Nguyen Quang and Phuc, Nguyen Hong},  \n",
        "    booktitle={2021 8th NAFOSTED Conference on Information and Computer Science (NICS)},   \n",
        "    title={Deep Feature Rotation for Multimodal Image Style Transfer},   \n",
        "    year={2021},  \n",
        "    pages={260-265},  \n",
        "    doi={10.1109/NICS54270.2021.9701465}\n",
        "}\n",
        "```\n",
        "\n"
      ],
      "metadata": {
        "id": "BB8VWUXZelEm"
      }
    },
    {
      "cell_type": "markdown",
      "source": [
        "# Settings"
      ],
      "metadata": {
        "id": "x71v4MCQhMV5"
      }
    },
    {
      "cell_type": "markdown",
      "source": [
        "Clone the official GitHub repository."
      ],
      "metadata": {
        "id": "QKTIh4EJjvBo"
      }
    },
    {
      "cell_type": "code",
      "execution_count": null,
      "metadata": {
        "id": "xZZI-AEujphn"
      },
      "outputs": [],
      "source": [
        "!git clone https://github.com/sonnguyen129/deep-feature-rotation.git\n",
        "%cd deep-feature-rotation"
      ]
    },
    {
      "cell_type": "markdown",
      "source": [
        "Upload content and style images."
      ],
      "metadata": {
        "id": "eB7sigy4j8BS"
      }
    },
    {
      "cell_type": "code",
      "source": [
        "from google.colab import files\n",
        "\n",
        "def upload_files():\n",
        "  uploaded = files.upload()\n",
        "  for k, v in uploaded.items():\n",
        "    open(k, 'wb').write(v)\n",
        "  return list(uploaded.keys())"
      ],
      "metadata": {
        "id": "N8Zc_-Tsp6v8"
      },
      "execution_count": null,
      "outputs": []
    },
    {
      "cell_type": "code",
      "source": [
        "uploaded_image_list = upload_files()"
      ],
      "metadata": {
        "id": "7PNGWEPRqMUx"
      },
      "execution_count": null,
      "outputs": []
    },
    {
      "cell_type": "markdown",
      "source": [
        "Add the *dfr* directory to the Python Path."
      ],
      "metadata": {
        "id": "QnB2B2sWhXDL"
      }
    },
    {
      "cell_type": "code",
      "source": [
        "import sys\n",
        "import os\n",
        "\n",
        "dfr_path = '/content/deep-feature-rotation/dfr'\n",
        "sys.path.append(dfr_path)\n",
        "os.environ[\"PYTHONPATH\"] += (\":\" + dfr_path)"
      ],
      "metadata": {
        "id": "ZauuMgYbx61E"
      },
      "execution_count": null,
      "outputs": []
    },
    {
      "cell_type": "markdown",
      "source": [
        "Set up arguments for the training script."
      ],
      "metadata": {
        "id": "mSgVIF4PrlOL"
      }
    },
    {
      "cell_type": "code",
      "source": [
        "#@title Training Options\n",
        "\n",
        "content_path = \"\" #@param uploaded_image_list\n",
        "style_path = \"\" #@param uploaded_image_list\n",
        "total_variation_weight = 30 #@param {type: \"number\"}\n",
        "snapshot_interval = 100 #@param {type: \"number\"}\n",
        "\n",
        "if content_path in uploaded_image_list and style_path in uploaded_image_list:\n",
        "  os.environ['CONTENT_PATH'] = content_path\n",
        "  os.environ['STYLE_PATH'] = style_path\n",
        "  os.environ['TOTAL_VARIATION_WEIGHT'] = str(total_variation_weight)\n",
        "  os.environ['SNAPSHOT_INTERVAL'] = str(snapshot_interval)\n",
        "else:\n",
        "  print('*** Please select content and style from the uploaded images ***')"
      ],
      "metadata": {
        "id": "-C2z-fdSrpQF"
      },
      "execution_count": null,
      "outputs": []
    },
    {
      "cell_type": "markdown",
      "source": [
        "Start the training."
      ],
      "metadata": {
        "id": "czW92G4AqW6f"
      }
    },
    {
      "cell_type": "code",
      "source": [
        "!python ./train.py --content-path $CONTENT_PATH --style-path $STYLE_PATH --snapshot_interval $SNAPSHOT_INTERVAL --total-variation-weight $TOTAL_VARIATION_WEIGHT"
      ],
      "metadata": {
        "id": "FvhMuD7qqY2q"
      },
      "execution_count": null,
      "outputs": []
    },
    {
      "cell_type": "markdown",
      "source": [
        "Show the results."
      ],
      "metadata": {
        "id": "Won2kN-1q1ZZ"
      }
    },
    {
      "cell_type": "code",
      "source": [
        "import cv2\n",
        "import matplotlib.pyplot as plt\n",
        "\n",
        "image_output_dir = os.path.join('./results', content_path.split('.')[0] + '_' + style_path.split('.')[0] + '_1.0')\n",
        "items = os.listdir(image_output_dir)\n",
        "items.sort()   \n",
        "\n",
        "generated_image_count = len(items)\n",
        "image_index = 0\n",
        "rows = total_variation_weight\n",
        "cols = 4\n",
        "fig, axes = plt.subplots(nrows=rows, ncols=cols, figsize=(60,60))\n",
        "\n",
        "for i in range(rows):\n",
        "    for j in range(cols):  \n",
        "      if image_index < generated_image_count:\n",
        "        full_path = image_output_dir + '/' + items[image_index]\n",
        "        image = cv2.imread(full_path)\n",
        "        image = cv2.cvtColor(image,cv2.COLOR_BGR2RGB)      \n",
        "        axes[i, j].imshow(image)\n",
        "        axes[i, j].set_title(items[image_index])\n",
        "        image_index+=1"
      ],
      "metadata": {
        "id": "LAlTorXJq2_T"
      },
      "execution_count": null,
      "outputs": []
    }
  ]
}
